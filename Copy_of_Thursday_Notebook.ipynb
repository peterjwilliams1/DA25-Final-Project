{
  "nbformat": 4,
  "nbformat_minor": 0,
  "metadata": {
    "colab": {
      "provenance": []
    },
    "kernelspec": {
      "name": "python3",
      "display_name": "Python 3"
    },
    "language_info": {
      "name": "python"
    }
  },
  "cells": [
    {
      "cell_type": "code",
      "execution_count": 1,
      "metadata": {
        "colab": {
          "base_uri": "https://localhost:8080/"
        },
        "id": "Wxh_MxrtLH8M",
        "outputId": "4c80c2ae-e019-4e42-e57c-5aa4e0049e33"
      },
      "outputs": [
        {
          "output_type": "stream",
          "name": "stdout",
          "text": [
            "Mounted at /content/drive\n"
          ]
        }
      ],
      "source": [
        "from google.colab import drive\n",
        "drive.mount('/content/drive')"
      ]
    },
    {
      "cell_type": "code",
      "source": [
        "!ls \"/content/drive/MyDrive/\""
      ],
      "metadata": {
        "colab": {
          "base_uri": "https://localhost:8080/"
        },
        "id": "4fsSaSfkLLID",
        "outputId": "3245e8ff-90ef-492e-817d-68bddc197bc7"
      },
      "execution_count": 2,
      "outputs": [
        {
          "output_type": "stream",
          "name": "stdout",
          "text": [
            "'~$ter Williams Berlin Cover Letter and CV Ableton 2020.docx'\n",
            "'2023 Journal.gdoc'\n",
            "'20th March.gdoc'\n",
            "'4 Day Training Diary.gsheet'\n",
            " add_clean.csv\n",
            "'Berlin Income Budget 2022.gsheet'\n",
            "'Berlin Income Budget 2023.gsheet'\n",
            "'Colab Notebooks'\n",
            " df_2010.csv\n",
            "'Distant Sun bio.gdoc'\n",
            "'Electric Consumption Meter Readings.xlsx'\n",
            "'Enable Audio To Do List And Planner.gsheet'\n",
            " enable:yourself.gdoc\n",
            "'!!!!!.gsheet'\n",
            "'I AM DISTANT SUN Album Planner.gsheet'\n",
            "'Lessons with Christoph.gsheet'\n",
            "'Lindas English.gdoc'\n",
            "'March 23 5 Day USN.xlsx'\n",
            "'Mars Retrogrades.gsheet'\n",
            " met_2010_coor.csv\n",
            " Meteorite_Landings.csv\n",
            " Meteorites_2010_2024.csv\n",
            " Meteorites_2010_2024.gsheet\n",
            "'Neue HV (1).gdoc'\n",
            "'Neue HV.gdoc'\n",
            "'Neue HV.pdf'\n",
            "'New Tenants Letter.gdoc'\n",
            "'Student Loans Company 2023.docx'\n",
            "'Tenants Christmas Letter.gdoc'\n",
            "'Training Diary 2024.gsheet'\n",
            "'Training Diary November 2022.gsheet'\n",
            "'UNO Petiii & Lindiii Competition.gsheet'\n",
            "'Untitled document.gdoc'\n",
            "'Untitled site.gsite'\n",
            "'Untitled spreadsheet (1).gsheet'\n",
            "'Untitled spreadsheet (2).gsheet'\n",
            "'Untitled spreadsheet (3).gsheet'\n",
            "'Untitled spreadsheet (4).gsheet'\n",
            "'Untitled spreadsheet (5).gsheet'\n",
            "'Untitled spreadsheet.gsheet'\n",
            "'Weight Loss Apr 2023.gsheet'\n",
            "'Weight Loss Aug 2022.gsheet'\n",
            "'Weight Loss Aug 23.gsheet'\n",
            "'Weight Loss BLANK 2022.gsheet'\n",
            "'Weight Loss BLANK SHEET.gsheet'\n",
            "'Weight Loss Dec 2022.gsheet'\n",
            "'Weight Loss Feb 2023.gsheet'\n",
            "'Weight Loss Jan 2023.gsheet'\n",
            "'Weight Loss July 2022.gsheet'\n",
            "'Weight Loss July 23.gsheet'\n",
            "'Weight Loss June 2023.gsheet'\n",
            "'Weight Loss Mar 2023.gsheet'\n",
            "'Weight Loss May 2023.gsheet'\n",
            "'Weight Loss Nov 2022.gsheet'\n",
            "'Weight Loss Oct 2022.gsheet'\n",
            "'Weight Loss Oct 2023.gsheet'\n",
            "'Weight Loss Sep 2022.gsheet'\n",
            "'Weight Loss Sept 2023.gsheet'\n"
          ]
        }
      ]
    },
    {
      "cell_type": "code",
      "source": [
        "import pandas as pd\n",
        "file_path = \"/content/drive/MyDrive/met_2010_coor.csv\"\n",
        "df_Met_2010 = pd.read_csv(file_path)\n",
        "print(df_Met_2010.head())  # Display first few rows"
      ],
      "metadata": {
        "colab": {
          "base_uri": "https://localhost:8080/"
        },
        "id": "rjVCfHCmLLPV",
        "outputId": "9b36b9b5-e869-490a-f620-e26f89546a33"
      },
      "execution_count": 3,
      "outputs": [
        {
          "output_type": "stream",
          "name": "stdout",
          "text": [
            "   Unnamed: 0             Name    Year             Place          Type  Mass  \\\n",
            "0           0  Al Huwaysah 003  2010.0  Az Zahirah, Oman          L4-6   NaN   \n",
            "1           1  Al Huwaysah 004  2010.0  Az Zahirah, Oman            H5   NaN   \n",
            "2           2  Al Huwaysah 005  2010.0  Az Zahirah, Oman  L(LL)3.5-3.7   NaN   \n",
            "3           3  Al Huwaysah 006  2010.0  Az Zahirah, Oman            L6   NaN   \n",
            "4           4  Al Huwaysah 007  2010.0  Az Zahirah, Oman            L6   NaN   \n",
            "\n",
            "             coordinates  latitude  longitude  decade  \n",
            "0  (22.748620,55.373230)  22.74862   55.37323  2010.0  \n",
            "1  (22.747330,55.395220)  22.74733   55.39522  2010.0  \n",
            "2  (22.733420,55.331220)  22.73342   55.33122  2010.0  \n",
            "3  (22.737430,55.319100)  22.73743   55.31910  2010.0  \n",
            "4  (22.733930,55.320400)  22.73393   55.32040  2010.0  \n"
          ]
        },
        {
          "output_type": "stream",
          "name": "stderr",
          "text": [
            "<ipython-input-3-738b853d8688>:3: DtypeWarning: Columns (6) have mixed types. Specify dtype option on import or set low_memory=False.\n",
            "  df_Met_2010 = pd.read_csv(file_path)\n"
          ]
        }
      ]
    },
    {
      "cell_type": "code",
      "source": [
        "pip install swifter"
      ],
      "metadata": {
        "colab": {
          "base_uri": "https://localhost:8080/"
        },
        "id": "ChWH0cASLLRk",
        "outputId": "ec37c571-cfbd-4eb1-c04e-d9255a6f6c9e"
      },
      "execution_count": 4,
      "outputs": [
        {
          "output_type": "stream",
          "name": "stdout",
          "text": [
            "Collecting swifter\n",
            "  Downloading swifter-1.4.0.tar.gz (1.2 MB)\n",
            "\u001b[?25l     \u001b[90m━━━━━━━━━━━━━━━━━━━━━━━━━━━━━━━━━━━━━━━━\u001b[0m \u001b[32m0.0/1.2 MB\u001b[0m \u001b[31m?\u001b[0m eta \u001b[36m-:--:--\u001b[0m\r\u001b[2K     \u001b[91m━━━━━━━━━━━━━━━━━━━━━━\u001b[0m\u001b[91m╸\u001b[0m\u001b[90m━━━━━━━━━━━━━━━━━\u001b[0m \u001b[32m0.7/1.2 MB\u001b[0m \u001b[31m20.2 MB/s\u001b[0m eta \u001b[36m0:00:01\u001b[0m\r\u001b[2K     \u001b[90m━━━━━━━━━━━━━━━━━━━━━━━━━━━━━━━━━━━━━━━━\u001b[0m \u001b[32m1.2/1.2 MB\u001b[0m \u001b[31m22.3 MB/s\u001b[0m eta \u001b[36m0:00:00\u001b[0m\n",
            "\u001b[?25h  Preparing metadata (setup.py) ... \u001b[?25l\u001b[?25hdone\n",
            "Requirement already satisfied: pandas>=1.0.0 in /usr/local/lib/python3.11/dist-packages (from swifter) (2.2.2)\n",
            "Requirement already satisfied: psutil>=5.6.6 in /usr/local/lib/python3.11/dist-packages (from swifter) (5.9.5)\n",
            "Requirement already satisfied: dask>=2.10.0 in /usr/local/lib/python3.11/dist-packages (from dask[dataframe]>=2.10.0->swifter) (2024.11.2)\n",
            "Requirement already satisfied: tqdm>=4.33.0 in /usr/local/lib/python3.11/dist-packages (from swifter) (4.67.1)\n",
            "Requirement already satisfied: click>=8.1 in /usr/local/lib/python3.11/dist-packages (from dask>=2.10.0->dask[dataframe]>=2.10.0->swifter) (8.1.8)\n",
            "Requirement already satisfied: cloudpickle>=3.0.0 in /usr/local/lib/python3.11/dist-packages (from dask>=2.10.0->dask[dataframe]>=2.10.0->swifter) (3.1.1)\n",
            "Requirement already satisfied: fsspec>=2021.09.0 in /usr/local/lib/python3.11/dist-packages (from dask>=2.10.0->dask[dataframe]>=2.10.0->swifter) (2024.10.0)\n",
            "Requirement already satisfied: packaging>=20.0 in /usr/local/lib/python3.11/dist-packages (from dask>=2.10.0->dask[dataframe]>=2.10.0->swifter) (24.2)\n",
            "Requirement already satisfied: partd>=1.4.0 in /usr/local/lib/python3.11/dist-packages (from dask>=2.10.0->dask[dataframe]>=2.10.0->swifter) (1.4.2)\n",
            "Requirement already satisfied: pyyaml>=5.3.1 in /usr/local/lib/python3.11/dist-packages (from dask>=2.10.0->dask[dataframe]>=2.10.0->swifter) (6.0.2)\n",
            "Requirement already satisfied: toolz>=0.10.0 in /usr/local/lib/python3.11/dist-packages (from dask>=2.10.0->dask[dataframe]>=2.10.0->swifter) (0.12.1)\n",
            "Requirement already satisfied: importlib-metadata>=4.13.0 in /usr/local/lib/python3.11/dist-packages (from dask>=2.10.0->dask[dataframe]>=2.10.0->swifter) (8.6.1)\n",
            "Requirement already satisfied: dask-expr<1.2,>=1.1 in /usr/local/lib/python3.11/dist-packages (from dask[dataframe]>=2.10.0->swifter) (1.1.19)\n",
            "Requirement already satisfied: numpy>=1.23.2 in /usr/local/lib/python3.11/dist-packages (from pandas>=1.0.0->swifter) (1.26.4)\n",
            "Requirement already satisfied: python-dateutil>=2.8.2 in /usr/local/lib/python3.11/dist-packages (from pandas>=1.0.0->swifter) (2.8.2)\n",
            "Requirement already satisfied: pytz>=2020.1 in /usr/local/lib/python3.11/dist-packages (from pandas>=1.0.0->swifter) (2025.1)\n",
            "Requirement already satisfied: tzdata>=2022.7 in /usr/local/lib/python3.11/dist-packages (from pandas>=1.0.0->swifter) (2025.1)\n",
            "Requirement already satisfied: pyarrow>=14.0.1 in /usr/local/lib/python3.11/dist-packages (from dask-expr<1.2,>=1.1->dask[dataframe]>=2.10.0->swifter) (18.1.0)\n",
            "Requirement already satisfied: zipp>=3.20 in /usr/local/lib/python3.11/dist-packages (from importlib-metadata>=4.13.0->dask>=2.10.0->dask[dataframe]>=2.10.0->swifter) (3.21.0)\n",
            "Requirement already satisfied: locket in /usr/local/lib/python3.11/dist-packages (from partd>=1.4.0->dask>=2.10.0->dask[dataframe]>=2.10.0->swifter) (1.0.0)\n",
            "Requirement already satisfied: six>=1.5 in /usr/local/lib/python3.11/dist-packages (from python-dateutil>=2.8.2->pandas>=1.0.0->swifter) (1.17.0)\n",
            "Building wheels for collected packages: swifter\n",
            "  Building wheel for swifter (setup.py) ... \u001b[?25l\u001b[?25hdone\n",
            "  Created wheel for swifter: filename=swifter-1.4.0-py3-none-any.whl size=16507 sha256=584b502ecc275cd23eb6f993db317e35751db532653157c56791f0581c8608a4\n",
            "  Stored in directory: /root/.cache/pip/wheels/ef/7f/bd/9bed48f078f3ee1fa75e0b29b6e0335ce1cb03a38d3443b3a3\n",
            "Successfully built swifter\n",
            "Installing collected packages: swifter\n",
            "Successfully installed swifter-1.4.0\n"
          ]
        }
      ]
    },
    {
      "cell_type": "code",
      "source": [
        "pip install pandas reverse_geocoder pycountry geopy\n"
      ],
      "metadata": {
        "colab": {
          "base_uri": "https://localhost:8080/"
        },
        "id": "sIndl9VfLLT4",
        "outputId": "0ae81da6-63dc-425c-a349-beeb8ae88efc"
      },
      "execution_count": 5,
      "outputs": [
        {
          "output_type": "stream",
          "name": "stdout",
          "text": [
            "Requirement already satisfied: pandas in /usr/local/lib/python3.11/dist-packages (2.2.2)\n",
            "Collecting reverse_geocoder\n",
            "  Downloading reverse_geocoder-1.5.1.tar.gz (2.2 MB)\n",
            "\u001b[2K     \u001b[90m━━━━━━━━━━━━━━━━━━━━━━━━━━━━━━━━━━━━━━━━\u001b[0m \u001b[32m2.2/2.2 MB\u001b[0m \u001b[31m20.9 MB/s\u001b[0m eta \u001b[36m0:00:00\u001b[0m\n",
            "\u001b[?25h  Preparing metadata (setup.py) ... \u001b[?25l\u001b[?25hdone\n",
            "Collecting pycountry\n",
            "  Downloading pycountry-24.6.1-py3-none-any.whl.metadata (12 kB)\n",
            "Requirement already satisfied: geopy in /usr/local/lib/python3.11/dist-packages (2.4.1)\n",
            "Requirement already satisfied: numpy>=1.23.2 in /usr/local/lib/python3.11/dist-packages (from pandas) (1.26.4)\n",
            "Requirement already satisfied: python-dateutil>=2.8.2 in /usr/local/lib/python3.11/dist-packages (from pandas) (2.8.2)\n",
            "Requirement already satisfied: pytz>=2020.1 in /usr/local/lib/python3.11/dist-packages (from pandas) (2025.1)\n",
            "Requirement already satisfied: tzdata>=2022.7 in /usr/local/lib/python3.11/dist-packages (from pandas) (2025.1)\n",
            "Requirement already satisfied: scipy>=0.17.1 in /usr/local/lib/python3.11/dist-packages (from reverse_geocoder) (1.13.1)\n",
            "Requirement already satisfied: geographiclib<3,>=1.52 in /usr/local/lib/python3.11/dist-packages (from geopy) (2.0)\n",
            "Requirement already satisfied: six>=1.5 in /usr/local/lib/python3.11/dist-packages (from python-dateutil>=2.8.2->pandas) (1.17.0)\n",
            "Downloading pycountry-24.6.1-py3-none-any.whl (6.3 MB)\n",
            "\u001b[2K   \u001b[90m━━━━━━━━━━━━━━━━━━━━━━━━━━━━━━━━━━━━━━━━\u001b[0m \u001b[32m6.3/6.3 MB\u001b[0m \u001b[31m42.0 MB/s\u001b[0m eta \u001b[36m0:00:00\u001b[0m\n",
            "\u001b[?25hBuilding wheels for collected packages: reverse_geocoder\n",
            "  Building wheel for reverse_geocoder (setup.py) ... \u001b[?25l\u001b[?25hdone\n",
            "  Created wheel for reverse_geocoder: filename=reverse_geocoder-1.5.1-py3-none-any.whl size=2268068 sha256=9d0b0b7c8926a3bd9743777c3f87db3c34507f9fb9ab4c670353c6e3889e041b\n",
            "  Stored in directory: /root/.cache/pip/wheels/17/3c/41/2bc89719586c2a5c53e9a527daa76a968a1288315c1ae2d904\n",
            "Successfully built reverse_geocoder\n",
            "Installing collected packages: pycountry, reverse_geocoder\n",
            "Successfully installed pycountry-24.6.1 reverse_geocoder-1.5.1\n"
          ]
        }
      ]
    },
    {
      "cell_type": "code",
      "source": [
        "import pandas as pd\n",
        "import reverse_geocoder as rg\n",
        "import pycountry\n",
        "import swifter  # Enables parallel processing\n"
      ],
      "metadata": {
        "id": "gguCfJ6YLLWK"
      },
      "execution_count": 6,
      "outputs": []
    },
    {
      "cell_type": "code",
      "source": [
        "import pandas as pd\n",
        "import reverse_geocoder as rg\n",
        "import pycountry\n",
        "from tqdm import tqdm\n",
        "\n",
        "# Enable progress bar\n",
        "tqdm.pandas()\n",
        "\n",
        "# Function to get country code from latitude & longitude\n",
        "def get_country(row):\n",
        "    try:\n",
        "        latitude = float(row['latitude'])\n",
        "        longitude = float(row['longitude'])\n",
        "        if latitude == 0 and longitude == 0:\n",
        "            return \"N/A\"  # Assign placeholder for oceanic locations\n",
        "        result = rg.search((latitude, longitude))  # Returns a list of dicts\n",
        "        return result[0]['cc']  # Extract country code\n",
        "    except Exception as e:\n",
        "        print(f\"Error processing row {row}: {e}\")\n",
        "        return None  # Return None in case of an error\n",
        "\n",
        "# Function to convert country code to full country name\n",
        "def country_name(code):\n",
        "    try:\n",
        "        return pycountry.countries.get(alpha_2=code).name\n",
        "    except:\n",
        "        return \"Ocean/Unknown\" if code == \"N/A\" else \"Unknown\"\n",
        "\n",
        "# Ensure numeric lat/lon\n",
        "df_Met_2010['latitude'] = pd.to_numeric(df_Met_2010['latitude'], errors='coerce')\n",
        "df_Met_2010['longitude'] = pd.to_numeric(df_Met_2010['longitude'], errors='coerce')\n",
        "\n",
        "# Remove rows only if BOTH latitude & longitude are missing\n",
        "df_Met_2010.dropna(subset=['latitude', 'longitude'], how='all', inplace=True)\n",
        "\n",
        "# Apply function with a progress bar\n",
        "df_Met_2010['country_code'] = df_Met_2010.progress_apply(get_country, axis=1).fillna(\"Unknown\")\n",
        "\n",
        "# Convert country codes to full country names\n",
        "df_Met_2010['country_name'] = df_Met_2010['country_code'].apply(country_name)  # Added missing line\n",
        "\n",
        "\n",
        "\n"
      ],
      "metadata": {
        "id": "R70F5nJgIW-2",
        "colab": {
          "base_uri": "https://localhost:8080/"
        },
        "outputId": "a69eee8d-25a7-448b-f480-54503469ce19"
      },
      "execution_count": 12,
      "outputs": [
        {
          "output_type": "stream",
          "name": "stderr",
          "text": [
            "100%|██████████| 12617/12617 [28:43<00:00,  7.32it/s]\n"
          ]
        }
      ]
    },
    {
      "cell_type": "code",
      "source": [
        "df_Met_2010.head(5)"
      ],
      "metadata": {
        "colab": {
          "base_uri": "https://localhost:8080/",
          "height": 206
        },
        "id": "RSA_RqYoD391",
        "outputId": "e7a4b9e8-c8aa-4774-a04a-b0151128c268"
      },
      "execution_count": 13,
      "outputs": [
        {
          "output_type": "execute_result",
          "data": {
            "text/plain": [
              "   Unnamed: 0             Name    Year             Place          Type  Mass  \\\n",
              "0           0  Al Huwaysah 003  2010.0  Az Zahirah, Oman          L4-6   NaN   \n",
              "1           1  Al Huwaysah 004  2010.0  Az Zahirah, Oman            H5   NaN   \n",
              "2           2  Al Huwaysah 005  2010.0  Az Zahirah, Oman  L(LL)3.5-3.7   NaN   \n",
              "3           3  Al Huwaysah 006  2010.0  Az Zahirah, Oman            L6   NaN   \n",
              "4           4  Al Huwaysah 007  2010.0  Az Zahirah, Oman            L6   NaN   \n",
              "\n",
              "             coordinates  latitude  longitude  decade country_code  \\\n",
              "0  (22.748620,55.373230)  22.74862   55.37323  2010.0           OM   \n",
              "1  (22.747330,55.395220)  22.74733   55.39522  2010.0           OM   \n",
              "2  (22.733420,55.331220)  22.73342   55.33122  2010.0           OM   \n",
              "3  (22.737430,55.319100)  22.73743   55.31910  2010.0           OM   \n",
              "4  (22.733930,55.320400)  22.73393   55.32040  2010.0           OM   \n",
              "\n",
              "  country_name  \n",
              "0         Oman  \n",
              "1         Oman  \n",
              "2         Oman  \n",
              "3         Oman  \n",
              "4         Oman  "
            ],
            "text/html": [
              "\n",
              "  <div id=\"df-d456b40f-2404-4d29-8463-6eba269ccc74\" class=\"colab-df-container\">\n",
              "    <div>\n",
              "<style scoped>\n",
              "    .dataframe tbody tr th:only-of-type {\n",
              "        vertical-align: middle;\n",
              "    }\n",
              "\n",
              "    .dataframe tbody tr th {\n",
              "        vertical-align: top;\n",
              "    }\n",
              "\n",
              "    .dataframe thead th {\n",
              "        text-align: right;\n",
              "    }\n",
              "</style>\n",
              "<table border=\"1\" class=\"dataframe\">\n",
              "  <thead>\n",
              "    <tr style=\"text-align: right;\">\n",
              "      <th></th>\n",
              "      <th>Unnamed: 0</th>\n",
              "      <th>Name</th>\n",
              "      <th>Year</th>\n",
              "      <th>Place</th>\n",
              "      <th>Type</th>\n",
              "      <th>Mass</th>\n",
              "      <th>coordinates</th>\n",
              "      <th>latitude</th>\n",
              "      <th>longitude</th>\n",
              "      <th>decade</th>\n",
              "      <th>country_code</th>\n",
              "      <th>country_name</th>\n",
              "    </tr>\n",
              "  </thead>\n",
              "  <tbody>\n",
              "    <tr>\n",
              "      <th>0</th>\n",
              "      <td>0</td>\n",
              "      <td>Al Huwaysah 003</td>\n",
              "      <td>2010.0</td>\n",
              "      <td>Az Zahirah, Oman</td>\n",
              "      <td>L4-6</td>\n",
              "      <td>NaN</td>\n",
              "      <td>(22.748620,55.373230)</td>\n",
              "      <td>22.74862</td>\n",
              "      <td>55.37323</td>\n",
              "      <td>2010.0</td>\n",
              "      <td>OM</td>\n",
              "      <td>Oman</td>\n",
              "    </tr>\n",
              "    <tr>\n",
              "      <th>1</th>\n",
              "      <td>1</td>\n",
              "      <td>Al Huwaysah 004</td>\n",
              "      <td>2010.0</td>\n",
              "      <td>Az Zahirah, Oman</td>\n",
              "      <td>H5</td>\n",
              "      <td>NaN</td>\n",
              "      <td>(22.747330,55.395220)</td>\n",
              "      <td>22.74733</td>\n",
              "      <td>55.39522</td>\n",
              "      <td>2010.0</td>\n",
              "      <td>OM</td>\n",
              "      <td>Oman</td>\n",
              "    </tr>\n",
              "    <tr>\n",
              "      <th>2</th>\n",
              "      <td>2</td>\n",
              "      <td>Al Huwaysah 005</td>\n",
              "      <td>2010.0</td>\n",
              "      <td>Az Zahirah, Oman</td>\n",
              "      <td>L(LL)3.5-3.7</td>\n",
              "      <td>NaN</td>\n",
              "      <td>(22.733420,55.331220)</td>\n",
              "      <td>22.73342</td>\n",
              "      <td>55.33122</td>\n",
              "      <td>2010.0</td>\n",
              "      <td>OM</td>\n",
              "      <td>Oman</td>\n",
              "    </tr>\n",
              "    <tr>\n",
              "      <th>3</th>\n",
              "      <td>3</td>\n",
              "      <td>Al Huwaysah 006</td>\n",
              "      <td>2010.0</td>\n",
              "      <td>Az Zahirah, Oman</td>\n",
              "      <td>L6</td>\n",
              "      <td>NaN</td>\n",
              "      <td>(22.737430,55.319100)</td>\n",
              "      <td>22.73743</td>\n",
              "      <td>55.31910</td>\n",
              "      <td>2010.0</td>\n",
              "      <td>OM</td>\n",
              "      <td>Oman</td>\n",
              "    </tr>\n",
              "    <tr>\n",
              "      <th>4</th>\n",
              "      <td>4</td>\n",
              "      <td>Al Huwaysah 007</td>\n",
              "      <td>2010.0</td>\n",
              "      <td>Az Zahirah, Oman</td>\n",
              "      <td>L6</td>\n",
              "      <td>NaN</td>\n",
              "      <td>(22.733930,55.320400)</td>\n",
              "      <td>22.73393</td>\n",
              "      <td>55.32040</td>\n",
              "      <td>2010.0</td>\n",
              "      <td>OM</td>\n",
              "      <td>Oman</td>\n",
              "    </tr>\n",
              "  </tbody>\n",
              "</table>\n",
              "</div>\n",
              "    <div class=\"colab-df-buttons\">\n",
              "\n",
              "  <div class=\"colab-df-container\">\n",
              "    <button class=\"colab-df-convert\" onclick=\"convertToInteractive('df-d456b40f-2404-4d29-8463-6eba269ccc74')\"\n",
              "            title=\"Convert this dataframe to an interactive table.\"\n",
              "            style=\"display:none;\">\n",
              "\n",
              "  <svg xmlns=\"http://www.w3.org/2000/svg\" height=\"24px\" viewBox=\"0 -960 960 960\">\n",
              "    <path d=\"M120-120v-720h720v720H120Zm60-500h600v-160H180v160Zm220 220h160v-160H400v160Zm0 220h160v-160H400v160ZM180-400h160v-160H180v160Zm440 0h160v-160H620v160ZM180-180h160v-160H180v160Zm440 0h160v-160H620v160Z\"/>\n",
              "  </svg>\n",
              "    </button>\n",
              "\n",
              "  <style>\n",
              "    .colab-df-container {\n",
              "      display:flex;\n",
              "      gap: 12px;\n",
              "    }\n",
              "\n",
              "    .colab-df-convert {\n",
              "      background-color: #E8F0FE;\n",
              "      border: none;\n",
              "      border-radius: 50%;\n",
              "      cursor: pointer;\n",
              "      display: none;\n",
              "      fill: #1967D2;\n",
              "      height: 32px;\n",
              "      padding: 0 0 0 0;\n",
              "      width: 32px;\n",
              "    }\n",
              "\n",
              "    .colab-df-convert:hover {\n",
              "      background-color: #E2EBFA;\n",
              "      box-shadow: 0px 1px 2px rgba(60, 64, 67, 0.3), 0px 1px 3px 1px rgba(60, 64, 67, 0.15);\n",
              "      fill: #174EA6;\n",
              "    }\n",
              "\n",
              "    .colab-df-buttons div {\n",
              "      margin-bottom: 4px;\n",
              "    }\n",
              "\n",
              "    [theme=dark] .colab-df-convert {\n",
              "      background-color: #3B4455;\n",
              "      fill: #D2E3FC;\n",
              "    }\n",
              "\n",
              "    [theme=dark] .colab-df-convert:hover {\n",
              "      background-color: #434B5C;\n",
              "      box-shadow: 0px 1px 3px 1px rgba(0, 0, 0, 0.15);\n",
              "      filter: drop-shadow(0px 1px 2px rgba(0, 0, 0, 0.3));\n",
              "      fill: #FFFFFF;\n",
              "    }\n",
              "  </style>\n",
              "\n",
              "    <script>\n",
              "      const buttonEl =\n",
              "        document.querySelector('#df-d456b40f-2404-4d29-8463-6eba269ccc74 button.colab-df-convert');\n",
              "      buttonEl.style.display =\n",
              "        google.colab.kernel.accessAllowed ? 'block' : 'none';\n",
              "\n",
              "      async function convertToInteractive(key) {\n",
              "        const element = document.querySelector('#df-d456b40f-2404-4d29-8463-6eba269ccc74');\n",
              "        const dataTable =\n",
              "          await google.colab.kernel.invokeFunction('convertToInteractive',\n",
              "                                                    [key], {});\n",
              "        if (!dataTable) return;\n",
              "\n",
              "        const docLinkHtml = 'Like what you see? Visit the ' +\n",
              "          '<a target=\"_blank\" href=https://colab.research.google.com/notebooks/data_table.ipynb>data table notebook</a>'\n",
              "          + ' to learn more about interactive tables.';\n",
              "        element.innerHTML = '';\n",
              "        dataTable['output_type'] = 'display_data';\n",
              "        await google.colab.output.renderOutput(dataTable, element);\n",
              "        const docLink = document.createElement('div');\n",
              "        docLink.innerHTML = docLinkHtml;\n",
              "        element.appendChild(docLink);\n",
              "      }\n",
              "    </script>\n",
              "  </div>\n",
              "\n",
              "\n",
              "<div id=\"df-fb87db0f-cc9a-40fb-a3b4-bc388f5a9d02\">\n",
              "  <button class=\"colab-df-quickchart\" onclick=\"quickchart('df-fb87db0f-cc9a-40fb-a3b4-bc388f5a9d02')\"\n",
              "            title=\"Suggest charts\"\n",
              "            style=\"display:none;\">\n",
              "\n",
              "<svg xmlns=\"http://www.w3.org/2000/svg\" height=\"24px\"viewBox=\"0 0 24 24\"\n",
              "     width=\"24px\">\n",
              "    <g>\n",
              "        <path d=\"M19 3H5c-1.1 0-2 .9-2 2v14c0 1.1.9 2 2 2h14c1.1 0 2-.9 2-2V5c0-1.1-.9-2-2-2zM9 17H7v-7h2v7zm4 0h-2V7h2v10zm4 0h-2v-4h2v4z\"/>\n",
              "    </g>\n",
              "</svg>\n",
              "  </button>\n",
              "\n",
              "<style>\n",
              "  .colab-df-quickchart {\n",
              "      --bg-color: #E8F0FE;\n",
              "      --fill-color: #1967D2;\n",
              "      --hover-bg-color: #E2EBFA;\n",
              "      --hover-fill-color: #174EA6;\n",
              "      --disabled-fill-color: #AAA;\n",
              "      --disabled-bg-color: #DDD;\n",
              "  }\n",
              "\n",
              "  [theme=dark] .colab-df-quickchart {\n",
              "      --bg-color: #3B4455;\n",
              "      --fill-color: #D2E3FC;\n",
              "      --hover-bg-color: #434B5C;\n",
              "      --hover-fill-color: #FFFFFF;\n",
              "      --disabled-bg-color: #3B4455;\n",
              "      --disabled-fill-color: #666;\n",
              "  }\n",
              "\n",
              "  .colab-df-quickchart {\n",
              "    background-color: var(--bg-color);\n",
              "    border: none;\n",
              "    border-radius: 50%;\n",
              "    cursor: pointer;\n",
              "    display: none;\n",
              "    fill: var(--fill-color);\n",
              "    height: 32px;\n",
              "    padding: 0;\n",
              "    width: 32px;\n",
              "  }\n",
              "\n",
              "  .colab-df-quickchart:hover {\n",
              "    background-color: var(--hover-bg-color);\n",
              "    box-shadow: 0 1px 2px rgba(60, 64, 67, 0.3), 0 1px 3px 1px rgba(60, 64, 67, 0.15);\n",
              "    fill: var(--button-hover-fill-color);\n",
              "  }\n",
              "\n",
              "  .colab-df-quickchart-complete:disabled,\n",
              "  .colab-df-quickchart-complete:disabled:hover {\n",
              "    background-color: var(--disabled-bg-color);\n",
              "    fill: var(--disabled-fill-color);\n",
              "    box-shadow: none;\n",
              "  }\n",
              "\n",
              "  .colab-df-spinner {\n",
              "    border: 2px solid var(--fill-color);\n",
              "    border-color: transparent;\n",
              "    border-bottom-color: var(--fill-color);\n",
              "    animation:\n",
              "      spin 1s steps(1) infinite;\n",
              "  }\n",
              "\n",
              "  @keyframes spin {\n",
              "    0% {\n",
              "      border-color: transparent;\n",
              "      border-bottom-color: var(--fill-color);\n",
              "      border-left-color: var(--fill-color);\n",
              "    }\n",
              "    20% {\n",
              "      border-color: transparent;\n",
              "      border-left-color: var(--fill-color);\n",
              "      border-top-color: var(--fill-color);\n",
              "    }\n",
              "    30% {\n",
              "      border-color: transparent;\n",
              "      border-left-color: var(--fill-color);\n",
              "      border-top-color: var(--fill-color);\n",
              "      border-right-color: var(--fill-color);\n",
              "    }\n",
              "    40% {\n",
              "      border-color: transparent;\n",
              "      border-right-color: var(--fill-color);\n",
              "      border-top-color: var(--fill-color);\n",
              "    }\n",
              "    60% {\n",
              "      border-color: transparent;\n",
              "      border-right-color: var(--fill-color);\n",
              "    }\n",
              "    80% {\n",
              "      border-color: transparent;\n",
              "      border-right-color: var(--fill-color);\n",
              "      border-bottom-color: var(--fill-color);\n",
              "    }\n",
              "    90% {\n",
              "      border-color: transparent;\n",
              "      border-bottom-color: var(--fill-color);\n",
              "    }\n",
              "  }\n",
              "</style>\n",
              "\n",
              "  <script>\n",
              "    async function quickchart(key) {\n",
              "      const quickchartButtonEl =\n",
              "        document.querySelector('#' + key + ' button');\n",
              "      quickchartButtonEl.disabled = true;  // To prevent multiple clicks.\n",
              "      quickchartButtonEl.classList.add('colab-df-spinner');\n",
              "      try {\n",
              "        const charts = await google.colab.kernel.invokeFunction(\n",
              "            'suggestCharts', [key], {});\n",
              "      } catch (error) {\n",
              "        console.error('Error during call to suggestCharts:', error);\n",
              "      }\n",
              "      quickchartButtonEl.classList.remove('colab-df-spinner');\n",
              "      quickchartButtonEl.classList.add('colab-df-quickchart-complete');\n",
              "    }\n",
              "    (() => {\n",
              "      let quickchartButtonEl =\n",
              "        document.querySelector('#df-fb87db0f-cc9a-40fb-a3b4-bc388f5a9d02 button');\n",
              "      quickchartButtonEl.style.display =\n",
              "        google.colab.kernel.accessAllowed ? 'block' : 'none';\n",
              "    })();\n",
              "  </script>\n",
              "</div>\n",
              "\n",
              "    </div>\n",
              "  </div>\n"
            ],
            "application/vnd.google.colaboratory.intrinsic+json": {
              "type": "dataframe",
              "variable_name": "df_Met_2010",
              "summary": "{\n  \"name\": \"df_Met_2010\",\n  \"rows\": 12617,\n  \"fields\": [\n    {\n      \"column\": \"Unnamed: 0\",\n      \"properties\": {\n        \"dtype\": \"number\",\n        \"std\": 18980,\n        \"min\": 0,\n        \"max\": 64662,\n        \"num_unique_values\": 12617,\n        \"samples\": [\n          44938,\n          23666,\n          49759\n        ],\n        \"semantic_type\": \"\",\n        \"description\": \"\"\n      }\n    },\n    {\n      \"column\": \"Name\",\n      \"properties\": {\n        \"dtype\": \"string\",\n        \"num_unique_values\": 12617,\n        \"samples\": [\n          \"Loulan Yizhi 024\\u00a0**\",\n          \"Grove Mountains 130396\",\n          \"Dominion Range 19319\"\n        ],\n        \"semantic_type\": \"\",\n        \"description\": \"\"\n      }\n    },\n    {\n      \"column\": \"Year\",\n      \"properties\": {\n        \"dtype\": \"number\",\n        \"std\": 3.845584983887361,\n        \"min\": 2010.0,\n        \"max\": 2023.0,\n        \"num_unique_values\": 13,\n        \"samples\": [\n          2022.0,\n          2019.0,\n          2010.0\n        ],\n        \"semantic_type\": \"\",\n        \"description\": \"\"\n      }\n    },\n    {\n      \"column\": \"Place\",\n      \"properties\": {\n        \"dtype\": \"category\",\n        \"num_unique_values\": 272,\n        \"samples\": [\n          \"Skaraborgs, Sweden\",\n          \"Paraiba, Brazil\",\n          \"XinJiang, China\"\n        ],\n        \"semantic_type\": \"\",\n        \"description\": \"\"\n      }\n    },\n    {\n      \"column\": \"Type\",\n      \"properties\": {\n        \"dtype\": \"category\",\n        \"num_unique_values\": 304,\n        \"samples\": [\n          \"CO3.1\",\n          \"EL6\",\n          \"H4-5\"\n        ],\n        \"semantic_type\": \"\",\n        \"description\": \"\"\n      }\n    },\n    {\n      \"column\": \"Mass\",\n      \"properties\": {\n        \"dtype\": \"number\",\n        \"std\": null,\n        \"min\": null,\n        \"max\": null,\n        \"num_unique_values\": 0,\n        \"samples\": [],\n        \"semantic_type\": \"\",\n        \"description\": \"\"\n      }\n    },\n    {\n      \"column\": \"coordinates\",\n      \"properties\": {\n        \"dtype\": \"string\",\n        \"num_unique_values\": 9105,\n        \"samples\": [],\n        \"semantic_type\": \"\",\n        \"description\": \"\"\n      }\n    },\n    {\n      \"column\": \"latitude\",\n      \"properties\": {\n        \"dtype\": \"number\",\n        \"std\": 44.02697375450355,\n        \"min\": -86.5517,\n        \"max\": 68.77491,\n        \"num_unique_values\": 7266,\n        \"samples\": [],\n        \"semantic_type\": \"\",\n        \"description\": \"\"\n      }\n    },\n    {\n      \"column\": \"longitude\",\n      \"properties\": {\n        \"dtype\": \"number\",\n        \"std\": 88.60684668467496,\n        \"min\": -165.661,\n        \"max\": 174.861,\n        \"num_unique_values\": 7491,\n        \"samples\": [],\n        \"semantic_type\": \"\",\n        \"description\": \"\"\n      }\n    },\n    {\n      \"column\": \"decade\",\n      \"properties\": {\n        \"dtype\": \"number\",\n        \"std\": 3.226501900932156,\n        \"min\": 2010.0,\n        \"max\": 2020.0,\n        \"num_unique_values\": 2,\n        \"samples\": [],\n        \"semantic_type\": \"\",\n        \"description\": \"\"\n      }\n    },\n    {\n      \"column\": \"country_code\",\n      \"properties\": {\n        \"dtype\": \"category\",\n        \"num_unique_values\": 79,\n        \"samples\": [],\n        \"semantic_type\": \"\",\n        \"description\": \"\"\n      }\n    },\n    {\n      \"column\": \"country_name\",\n      \"properties\": {\n        \"dtype\": \"category\",\n        \"num_unique_values\": 79,\n        \"samples\": [],\n        \"semantic_type\": \"\",\n        \"description\": \"\"\n      }\n    }\n  ]\n}"
            }
          },
          "metadata": {},
          "execution_count": 13
        }
      ]
    },
    {
      "cell_type": "code",
      "source": [
        "from google.colab import files\n",
        "\n",
        "# Save DataFrame to CSV\n",
        "df_Met_2010.to_csv(\"Met_2010_Countries.csv\", index=False)\n",
        "\n",
        "# Download the file\n",
        "files.download(\"Met_2010_Countries.csv\")\n"
      ],
      "metadata": {
        "colab": {
          "base_uri": "https://localhost:8080/",
          "height": 17
        },
        "id": "zCO9U1NQM7U0",
        "outputId": "2a90e690-611e-4b17-d461-d56d9f58bfea"
      },
      "execution_count": 11,
      "outputs": [
        {
          "output_type": "display_data",
          "data": {
            "text/plain": [
              "<IPython.core.display.Javascript object>"
            ],
            "application/javascript": [
              "\n",
              "    async function download(id, filename, size) {\n",
              "      if (!google.colab.kernel.accessAllowed) {\n",
              "        return;\n",
              "      }\n",
              "      const div = document.createElement('div');\n",
              "      const label = document.createElement('label');\n",
              "      label.textContent = `Downloading \"${filename}\": `;\n",
              "      div.appendChild(label);\n",
              "      const progress = document.createElement('progress');\n",
              "      progress.max = size;\n",
              "      div.appendChild(progress);\n",
              "      document.body.appendChild(div);\n",
              "\n",
              "      const buffers = [];\n",
              "      let downloaded = 0;\n",
              "\n",
              "      const channel = await google.colab.kernel.comms.open(id);\n",
              "      // Send a message to notify the kernel that we're ready.\n",
              "      channel.send({})\n",
              "\n",
              "      for await (const message of channel.messages) {\n",
              "        // Send a message to notify the kernel that we're ready.\n",
              "        channel.send({})\n",
              "        if (message.buffers) {\n",
              "          for (const buffer of message.buffers) {\n",
              "            buffers.push(buffer);\n",
              "            downloaded += buffer.byteLength;\n",
              "            progress.value = downloaded;\n",
              "          }\n",
              "        }\n",
              "      }\n",
              "      const blob = new Blob(buffers, {type: 'application/binary'});\n",
              "      const a = document.createElement('a');\n",
              "      a.href = window.URL.createObjectURL(blob);\n",
              "      a.download = filename;\n",
              "      div.appendChild(a);\n",
              "      a.click();\n",
              "      div.remove();\n",
              "    }\n",
              "  "
            ]
          },
          "metadata": {}
        },
        {
          "output_type": "display_data",
          "data": {
            "text/plain": [
              "<IPython.core.display.Javascript object>"
            ],
            "application/javascript": [
              "download(\"download_f45e3524-1012-4556-8fba-b64df04687f8\", \"Met_2010_Countries.csv\", 1332062)"
            ]
          },
          "metadata": {}
        }
      ]
    },
    {
      "cell_type": "code",
      "source": [
        "df_Met_2010.shape"
      ],
      "metadata": {
        "colab": {
          "base_uri": "https://localhost:8080/"
        },
        "id": "Fr3BvoFLbkaK",
        "outputId": "c8ffb095-2a01-43da-b997-4d7c2106fc50"
      },
      "execution_count": 14,
      "outputs": [
        {
          "output_type": "execute_result",
          "data": {
            "text/plain": [
              "(12617, 12)"
            ]
          },
          "metadata": {},
          "execution_count": 14
        }
      ]
    },
    {
      "cell_type": "code",
      "source": [],
      "metadata": {
        "id": "9YYKUkvNNR1h"
      },
      "execution_count": null,
      "outputs": []
    }
  ]
}