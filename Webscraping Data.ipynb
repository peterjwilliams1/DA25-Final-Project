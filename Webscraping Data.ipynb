{
 "cells": [
  {
   "cell_type": "code",
   "execution_count": 8,
   "id": "249f0f25-509c-473e-a81f-73f2a3142d96",
   "metadata": {},
   "outputs": [],
   "source": [
    "import pandas as pd\n",
    "import numpy as ny\n",
    "import requests\n",
    "from bs4 import BeautifulSoup"
   ]
  },
  {
   "cell_type": "code",
   "execution_count": 4,
   "id": "8792d2d5-2e11-48a9-914c-c1221383b2ed",
   "metadata": {
    "scrolled": true
   },
   "outputs": [
    {
     "name": "stdout",
     "output_type": "stream",
     "text": [
      "Requirement already satisfied: requests in /Users/peterwilliams/Anaconda3/anaconda3/lib/python3.12/site-packages (2.32.3)\n",
      "Requirement already satisfied: beautifulsoup4 in /Users/peterwilliams/Anaconda3/anaconda3/lib/python3.12/site-packages (4.12.3)\n",
      "Requirement already satisfied: charset-normalizer<4,>=2 in /Users/peterwilliams/Anaconda3/anaconda3/lib/python3.12/site-packages (from requests) (3.3.2)\n",
      "Requirement already satisfied: idna<4,>=2.5 in /Users/peterwilliams/Anaconda3/anaconda3/lib/python3.12/site-packages (from requests) (3.7)\n",
      "Requirement already satisfied: urllib3<3,>=1.21.1 in /Users/peterwilliams/Anaconda3/anaconda3/lib/python3.12/site-packages (from requests) (2.2.3)\n",
      "Requirement already satisfied: certifi>=2017.4.17 in /Users/peterwilliams/Anaconda3/anaconda3/lib/python3.12/site-packages (from requests) (2025.1.31)\n",
      "Requirement already satisfied: soupsieve>1.2 in /Users/peterwilliams/Anaconda3/anaconda3/lib/python3.12/site-packages (from beautifulsoup4) (2.5)\n",
      "Note: you may need to restart the kernel to use updated packages.\n"
     ]
    }
   ],
   "source": [
    "pip install requests beautifulsoup4"
   ]
  },
  {
   "cell_type": "code",
   "execution_count": 81,
   "id": "2f80b717-8bab-40f8-a94d-5bda19bdaa0b",
   "metadata": {},
   "outputs": [
    {
     "name": "stdout",
     "output_type": "stream",
     "text": [
      "<!DOCTYPE html><html lang=\"en-US\"><head><title>Just a moment...</title><meta http-equiv=\"Content-Type\" content=\"text/html; charset=UTF-8\"><meta http-equiv=\"X-UA-Compatible\" content=\"IE=Edge\"><meta name=\"robots\" content=\"noindex,nofollow\"><meta name=\"viewport\" content=\"width=device-width,initial-scale=1\"><style>*{box-sizing:border-box;margin:0;padding:0}html{line-height:1.15;-webkit-text-size-adjust:100%;color:#313131;font-family:system-ui,-apple-system,BlinkMacSystemFont,Segoe UI,Roboto,Helvetica Neue,Arial,Noto Sans,sans-serif,Apple Color Emoji,Segoe UI Emoji,Segoe UI Symbol,Noto Color Emoji}body{display:flex;flex-direction:column;height:100vh;min-height:100vh}.main-content{margin:8rem auto;max-width:60rem;padding-left:1.5rem}@media (width <= 720px){.main-content{margin-top:4rem}}.h2{font-size:1.5rem;font-weight:500;line-height:2.25rem}@media (width <= 720px){.h2{font-size:1.25rem;line-height:1.5rem}}#challenge-error-text{background-image:url(data:image/svg+xml;base64,PHN2ZyB4bWxucz0iaHR0cDovL3d3dy53My5vcmcvMjAwMC9zdmciIHdpZHRoPSIzMiIgaGVpZ2h0PSIzMiIgZmlsbD0ibm9uZSI+PHBhdGggZmlsbD0iI0IyMEYwMyIgZD0iTTE2IDNhMTMgMTMgMCAxIDAgMTMgMTNBMTMuMDE1IDEzLjAxNSAwIDAgMCAxNiAzbTAgMjRhMTEgMTEgMCAxIDEgMTEtMTEgMTEuMDEgMTEuMDEgMCAwIDEtMTEgMTEiLz48cGF0aCBmaWxsPSIjQjIwRjAzIiBkPSJNMTcuMDM4IDE4LjYxNUgxNC44N0wxNC41NjMgOS41aDIuNzgzem0tMS4wODQgMS40MjdxLjY2IDAgMS4wNTcuMzg4LjQwNy4zODkuNDA3Ljk5NCAwIC41OTYtLjQwNy45ODQtLjM5Ny4zOS0xLjA1Ny4zODktLjY1IDAtMS4wNTYtLjM4OS0uMzk4LS4zODktLjM5OC0uOTg0IDAtLjU5Ny4zOTgtLjk4NS40MDYtLjM5NyAxLjA1Ni0uMzk3Ii8+PC9zdmc+);background-repeat:no-repeat;background-size:contain;padding-left:34px}@media (prefers-color-scheme:dark){body{background-color:#222;color:#d9d9d9}}</style><meta http-equiv=\"refresh\" content=\"390\"></head><body class=\"no-js\"><div class=\"main-wrapper\" role=\"main\"><div class=\"main-content\"><noscript><div class=\"h2\"><span id=\"challenge-error-text\">Enable JavaScript and cookies to continue</span></div></noscript></div></div><script>(function(){window._cf_chl_opt={cvId: '3',cZone: \"www.lpi.usra.edu\",cType: 'managed',cRay: '9188cd37ffd9e519',cH: '3oLCL5n7TZqe9gKxVjNWUVmptpAl2J5cGY3YJuqaiuU-1740665880-1.2.1.1-Pxx_zg61X0muo3mRDlU6huASpz9LQHM3CJaYBzFXiPif_bzpSjesDHGGwm.o4ALH',cUPMDTk: \"\\/meteor\\/metbull.php?__cf_chl_tk=uA0xOdZSi_j3gNjySWsB8j5vqVEMI6S7h4fLqQWEGv0-1740665880-1.0.1.1-espdGTMxQP_BUbpCrg1krBNigWSsaisJrFjDNOszXEc\",cFPWv: 'b',cITimeS: '1740665880',cTTimeMs: '1000',cMTimeMs: '390000',cTplC: 0,cTplV: 5,cTplB: 'cf',cK: \"\",fa: \"\\/meteor\\/metbull.php?__cf_chl_f_tk=uA0xOdZSi_j3gNjySWsB8j5vqVEMI6S7h4fLqQWEGv0-1740665880-1.0.1.1-espdGTMxQP_BUbpCrg1krBNigWSsaisJrFjDNOszXEc\",md: \"jas1WqV65vh5zsn3RsvY9SI6YPfqqFJugfKJ9i.GzZg-1740665880-1.2.1.1-E_PwtfOjh_dW.uWDbclC8cIq_SulF0gBjj5a3rNGQpsnAsBCUsHrjSZsFRnYLz7m228HrkZUuSO3RirNgGlkbhyhwg1p7iInBH7W4vSWx1xoOnmMFZ9VSF06Wbe00G3SY.fAnAYs2KBVjRBf2IQYogvmUslSolatQeHXGyi5juEHEKwRa7Kg_HdvKlrQcRWrs8S84eONUyzNaymZQ.9jMKYvE6nbTOvlTdfNJURSetu0vEu6pYEJtOoJWycZVyeasF5AgxvL0fB6skm1k_uri83Wy84BJl_u5A_d_GGluK1TRntYDWLiAiMfCTLNRH5rz11OVlx5HL3rRgyAvzRX7IB6NF5gSld20DNP.059doOIRFmw4DRz5WqDqOnWTYVeCGWhD5spi5Td4mXoefovwxg6nEgvkidS0Bb5Hqov0AKw4I6GmmIA5tG6yR37BhuhQJ5R6fv_k0f93ste2xkbc0J7wnbVE6ibCi3iqUC3fDSFCuTFTq9kBeLwhh8EmZsSmPxl0BuZ.Akyyu3ZYlSZ6RQJ3z1UhcYORAoZ7XfkqysYgg7al.x3BkKhaM6b8oXx7WsA.3LB2pZEOskSaoXeyyqQV.HTzrhmi0DwvcBRz0xpGATI6ZpKFXi0X1n0kUy778yfeTbtBcH7itIzgHKVUP.jTUdiDBeEp4jHOT5wE9_YJM8bIP8Ou7VkgaCj5U4dlxsefU7ZH_jKYyPit3xF2WfHuXd6V94LmII0aOPPcQwksOakQcfQOENfvbDrS7AzApebHnbLtWNSNwcW_bbHynMPmRfIesZQ_2bGflCWDiHXJlScncytYyhJfYuNCaVLpjplpUuPH_vpqVQrunnh9qJwi0eKjgQ5FM5kT8LdjbUQGO_umgKQUb9urVkZ2lUWlsTfUGIAso5aWhPSL_f2gipXqB0QlntyTcu7VpDjQgeMb4.DMhYnXW2gKmXbXGT118lLpLMTKE8yBwemu3tkdDDtZsymDt0p2UgfcdZC8tS4tTQMJhJfOMiX8iPciWsqWLTo2v03ZbaYRZFhfh1AaK7H6JsiIgI3j73TUZVljdzVGuYUIMCLwP670o6wmjPfvPgbEDuOeo4pPmXnT5bISttm.LRqC9a4XywI.3Ni572DD9Q.jNW0utREXIFWu8OjFjghVqNR84k_8iLlSX1FEDYwCfOJ0nByohsCi5hczY_h.XfdHLs.vY9Uhb8SgWcBk9jYM.PIGoWI__heJtyuvu1rQmc6EsFVMy_vWbR5kAclmXY.hRgF2J1LrP3afi6M_d2H2hcFCM2ZjYX3d4c6wnrUAYV_Ne_t8IJm0FqohkeIQMNCTjwO_cWjT_0X6usPIicvszgv7sP.a8baqol4nTr88e46Fxq6_xmG9_ZVkouqcAGsPL4Ryc2QFs_dp7SXR8AMmWWcLytjijl9TNqD_2xVOZ8caSOZnKd_GG7MHyL7zDX5vzjYVDypRMcBIFtNgo5hL5JlXYoEAqeLyGopEbMVdiEWaCFJv9VVk8ZpmdKdIrt2VIYW0N5qHc0Ggms655fDU6kbBekEamPsVkFaF_7aYOdOEYACXvEAhL9pD7NBIkZGKYh0GYAxETxx.VgzlItN9oAWCBvT04sAmNvKOdKx1tTBAMD0nBQ9FToDS1tqSuETm8BnDxdNcN3kxqpHeW97h0E8Ft2hai1Xxx9ijcyi37u5Vr6Hytq0c7vMniM7ZJanYEwOtqSvd6dfYt..UYgDsUU_fATX.UjVgVJNieg88OMyrQPNFYhLZfMMEdWCSLDs1SbOHPNJPybC1daY9hj2tSCp1jl4ThLfZRJGWU7ulmptcRzHAZMmV3fZx0.R34pp7rZaiLJojQP_cQzv6uwiAFAYZajlMV0WyCpE7MI_pAXQ623PPpqo30aIP3Pc8UmHqgA9z_5hJohRUVOJThAeinVb_lhQdX.INJMzvvxK6xT6KqvQbW7_S6ZUMgyGTFtZvPeSWAZtx4Ke546mFKkhvh0xNbqSp.GQxATi_QlKb7O50iCXEs2xt2K4R.v8ibGSpXS6I4.IMXZ5yRDeORE0uqomVum_CN_KB.2O326Iz3To5_zs354ikSDARC3tepBYNGDdwDkQ385.g_qUBFET0jITntIpNBEUE0E9yuZf4YO5pn3l_3PxSafcGttaBRgu9pJB9tMgLNcdoRtUlXrmOECh_6i1yeE2o.PVMlM9QVlxu2KS3s5sZIhqXOdmvhh4WEIWcbNHuq7XEIUklxb47FO2kP61f_3.pnqQMAfwg1AX5LgLoDSVDTnj1M2vtyD_v7OK41LDiwkm1od1hGLHw7r3SS_cKTiPkRN40wCtsd3z.HiuLmwIAxuv6_uMX6uVR9ZqQtXdVK7IPKA.9.lFrpGK6sdcB1ujrN_XIdwosoCeDt5Wgv8PGb9TIeZ0JBkqR5X4aQo_FBpF1bhoJijFRQbKwoL.bc15q42qXM3ga93sqs6mfVH4errqRfA\",mdrd: \"PHP5jXYhDVU0X5I6eGYtBVjhoDPYMcF4jRxEx2eJffY-1740665880-1.2.1.1-SOiUHI1SbdtMKPb3KS82Uv7FYrFR2zD8lqi5CbRDjj1xoP8Ma9PKFIuHELZ32t6jUeoXPLOY8gi1A4oOF5K9Q3l_5dxTpGPU1W0.tfPZzyCkYrDIeXAo9NbQwMu7OjQXnZFSlz6moH4DaMVFC6iqzutfFtlg81emRpAR_4z0etMglUzbnwavDx3g50wZp.mTvX9.3yFUyA_XHlhCkQDWPSRL8rSuUJrILCJzG9PPPxAVOHbW48Hawh.Xhq4t0wy4LZVNt_Z1iGOf9Y5n_CvHw2ho61QMLtmewQZlat1pZrSGA06zJtCOHf_BDDjVEWqL91FcjvlZAlqqNWw.5NsfUJpGu264nolUixY0IWAqYZsOgvnGhhOJ.vLtMaYOlbxVNwteM5LCkJ_fS66otcmkYA52ku_ZXYiabCW12aZ4SCTuvtUzvGdSWX8iwaX_dHf6f9sHEhsxqGiegb0TiP_Ck6QA8W.S9.7FVA1vKWdGfzbmbR6eOPoAD_2uR4..oxR48PYQgSmM4IEzEDr34ouqkBMJ16Qr_oZgdDFEq4wMtc0Z6GE5tXriImpY73fvBqNfiPDAgDw.iN2.AGlWJhDgA6_gFOBrLCKq1pr8ONBCoDE.Plxcx8937M9BH6YyaIumsvmhHpF4NaCYhzin.FhAstXcxqAFuqV3vhDeFezew09sxnOiSkOpjjvgXBlIvBEQ1r_yzb0TUAtQPnDykDol5WUU.aNcolAh2ZcAQDRVcuJ72_nFpUP.0qSH4hmcuYYxsnh_V5V5tCTnpwannJkQ8bb2bXiL1.dgjcDIj.K4rmduBhcj0ipw54xd5ulmktkdqRAQ2LR8LuWqvT8n2t0E7607m1BTaql5B2Kawz0B4W8KJNftXMGsYgxikPgVKzV0lBHlwHAaIMxuPFT0w6IVsvxdJaQrdC6qdgsVfO4YgDwmvQpjseRpEmpq3w4sxJBEBtyU9fAHiMlJw2gzKlZVWRN6iw56DKik7ZRqoV1bDaV0xcVKhdjcjFb5Rpowc2LMfL8iGytrjSsxVigCclPezFgBs4MEtb4BvhE8WMAqkCqVUNDXiL8wQBNIHdMy.H5k_dHbo7QUN94ZoPgpcV8N5wxSDVFvffP8RruOsYtegEYxYl7QoFPiBuAq4.6Z4daTEf7kpLrr.NjpQjO.c4mbOPUkZISBgow6up3Ph10GQYUkyeJfDgVHz7sBOLILL3ohIQrBUB.IaTT6J1X1SuCeAHCEHrXCJ2GsJvXM2jexxZ.UHJiF4DfrsqUzrDwfXkmAqzwA3xxuT.EOatjDBuMk5fi6ojZ1aLnyhl7LhbvEFI4V_F8tp5X8qNa4XMONrve3A_4JpGK_Fb_39AqzOMDYElhjhoFxytKcB21AUy7yxVhMorI4Ky4Kmjo9G_5wt4TZHN9rW5FqkevMWWS0UQT4M29t7m80lAxt0myTNKRU2hm2lrwk1paRUHQ7IndfuFa0RWmO9E4nCDQC8AekNMfjKhKbqB4cjwcqS.Sesy7IlEeqnuRpMKTJS31HozeJyXLfn7dahLM9YHwp4lZSxx.0AaAoyN3JX2aFNCXm283psOHhpF296aPIwzH9Sq6gqox3yHBqjcPRErLziZ4NKFXbNQT1LGjvPp0GKN5zsXi6Dj5qdXB2CbISESI2sySH40YKtZJ9p5TfMyfaGykFdX7ARgI_fD8uv1Y2R28PY.BDZ.9bSBTi8ztcDe.TBlyNURLAsFRmx0WNsKbs0wWfdbnF6sjzLQP9cGRkGO2QyhSQ0aIigFfLlF7RG2m3xSDR9jR89lD2CrKeYNPKMl2VMvlU.SnCYiqO2vyuZwu9z2R8b1KEz4dwNyi8LjXxYrnnYQ1Wg_dOS6dqQfeKQgEygmAw8Q4F9OPYfSsgl03dsa0Lwt4nJYSXuWmFInpeZmO4aeBwekOtGLeTkbH2x18_H13y5ki5SJOcVR3nbkMjzcoWCIFYENEaL6weAHkm4Fw1alHBRIKmtuEBWTIP9311_B2dKT0ZGiF3znqv9JgGp4PV7x0T7QvpsNG6_O6zuVtYwU0Bh1VgF5ISFs483MLfHrHVMr2tw5pCPO7fm3BGekPK7BjkZDvGdoMsLdUhk65tpHJlKQUdyPp0XG513EogQQ4yu_DHPj8ArBMmyTuXZ9pyO.EQ0ulHupU5I1ql6ztxJjaDFWWRhtTiu1kMb.bDn6w3qIxK3bDCY3M4ZOFrrHQNZs9sq5AUPAnxjCur7FGqs2rseUHqxFnjgJpLVk3zbev2bEP6FZA09FrQGxwkdSe_sMPBecFswLRwFnm2jWdcRS8s\"};var cpo = document.createElement('script');cpo.src = '/cdn-cgi/challenge-platform/h/b/orchestrate/chl_page/v1?ray=9188cd37ffd9e519';window._cf_chl_opt.cOgUHash = location.hash === '' && location.href.indexOf('#') !== -1 ? '#' : location.hash;window._cf_chl_opt.cOgUQuery = location.search === '' && location.href.slice(0, location.href.length - window._cf_chl_opt.cOgUHash.length).indexOf('?') !== -1 ? '?' : location.search;if (window.history && window.history.replaceState) {var ogU = location.pathname + window._cf_chl_opt.cOgUQuery + window._cf_chl_opt.cOgUHash;history.replaceState(null, null, \"\\/meteor\\/metbull.php?__cf_chl_rt_tk=uA0xOdZSi_j3gNjySWsB8j5vqVEMI6S7h4fLqQWEGv0-1740665880-1.0.1.1-espdGTMxQP_BUbpCrg1krBNigWSsaisJrFjDNOszXEc\" + window._cf_chl_opt.cOgUHash);cpo.onload = function() {history.replaceState(null, null, ogU);}}document.getElementsByTagName('head')[0].appendChild(cpo);}());</script></body></html>\n"
     ]
    }
   ],
   "source": [
    "headers = {\n",
    "    \"User-Agent\": \"Mozilla/5.0 (Windows NT 10.0; Win64; x64) AppleWebKit/537.36 (KHTML, like Gecko) Chrome/114.0.0.0 Safari/537.36\"\n",
    "}\n",
    "\n",
    "session = requests.Session()\n",
    "session.headers.update(headers)\n",
    "response = session.get(url)\n",
    "print(response.text)\n"
   ]
  },
  {
   "cell_type": "code",
   "execution_count": 59,
   "id": "d8f27721-ec3f-4d12-90d4-320588903783",
   "metadata": {
    "scrolled": true
   },
   "outputs": [
    {
     "data": {
      "text/plain": [
       "b'<!DOCTYPE html><html lang=\"en-US\"><head><title>Just a moment...</title><meta http-equiv=\"Content-Type\" content=\"text/html; charset=UTF-8\"><meta http-equiv=\"X-UA-Compatible\" content=\"IE=Edge\"><meta name=\"robots\" content=\"noindex,nofollow\"><meta name=\"viewport\" content=\"width=device-width,initial-scale=1\"><style>*{box-sizing:border-box;margin:0;padding:0}html{line-height:1.15;-webkit-text-size-adjust:100%;color:#313131;font-family:system-ui,-apple-system,BlinkMacSystemFont,Segoe UI,Roboto,Helvetica Neue,Arial,Noto Sans,sans-serif,Apple Color Emoji,Segoe UI Emoji,Segoe UI Symbol,Noto Color Emoji}body{display:flex;flex-direction:column;height:100vh;min-height:100vh}.main-content{margin:8rem auto;max-width:60rem;padding-left:1.5rem}@media (width <= 720px){.main-content{margin-top:4rem}}.h2{font-size:1.5rem;font-weight:500;line-height:2.25rem}@media (width <= 720px){.h2{font-size:1.25rem;line-height:1.5rem}}#challenge-error-text{background-image:url(data:image/svg+xml;base64,PHN2ZyB4bWxucz0iaHR0cDovL3d3dy53My5vcmcvMjAwMC9zdmciIHdpZHRoPSIzMiIgaGVpZ2h0PSIzMiIgZmlsbD0ibm9uZSI+PHBhdGggZmlsbD0iI0IyMEYwMyIgZD0iTTE2IDNhMTMgMTMgMCAxIDAgMTMgMTNBMTMuMDE1IDEzLjAxNSAwIDAgMCAxNiAzbTAgMjRhMTEgMTEgMCAxIDEgMTEtMTEgMTEuMDEgMTEuMDEgMCAwIDEtMTEgMTEiLz48cGF0aCBmaWxsPSIjQjIwRjAzIiBkPSJNMTcuMDM4IDE4LjYxNUgxNC44N0wxNC41NjMgOS41aDIuNzgzem0tMS4wODQgMS40MjdxLjY2IDAgMS4wNTcuMzg4LjQwNy4zODkuNDA3Ljk5NCAwIC41OTYtLjQwNy45ODQtLjM5Ny4zOS0xLjA1Ny4zODktLjY1IDAtMS4wNTYtLjM4OS0uMzk4LS4zODktLjM5OC0uOTg0IDAtLjU5Ny4zOTgtLjk4NS40MDYtLjM5NyAxLjA1Ni0uMzk3Ii8+PC9zdmc+);background-repeat:no-repeat;background-size:contain;padding-left:34px}@media (prefers-color-scheme:dark){body{background-color:#222;color:#d9d9d9}}</style><meta http-equiv=\"refresh\" content=\"390\"></head><body class=\"no-js\"><div class=\"main-wrapper\" role=\"main\"><div class=\"main-content\"><noscript><div class=\"h2\"><span id=\"challenge-error-text\">Enable JavaScript and cookies to continue</span></div></noscript></div></div><script>(function(){window._cf_chl_opt={cvId: \\'3\\',cZone: \"www.lpi.usra.edu\",cType: \\'managed\\',cRay: \\'9188c49e997be517\\',cH: \\'LYks3d_hUnH90J4vuxPeMYPVrxLjvZGXfSUrm_Mw.Yc-1740665528-1.2.1.1-R9zTcNaOUNlLHg1hg13m8TgKdTAbc6iLG2NxrPKKUbHQ4rw1_tpreDYuyyqUOev3\\',cUPMDTk: \"\\\\/meteor\\\\/metbull.php?__cf_chl_tk=1pAV_7UeqD94uhk_3XEwdaV2d0Gia.fSZLIhgCCW_5s-1740665528-1.0.1.1-e_E2WjURahipycSKOKlsLOTehKuaCDS6f2WxFxLB.5Y\",cFPWv: \\'b\\',cITimeS: \\'1740665528\\',cTTimeMs: \\'1000\\',cMTimeMs: \\'390000\\',cTplC: 0,cTplV: 5,cTplB: \\'cf\\',cK: \"\",fa: \"\\\\/meteor\\\\/metbull.php?__cf_chl_f_tk=1pAV_7UeqD94uhk_3XEwdaV2d0Gia.fSZLIhgCCW_5s-1740665528-1.0.1.1-e_E2WjURahipycSKOKlsLOTehKuaCDS6f2WxFxLB.5Y\",md: \"3QkqD.VIpyXmemfpdydYt6bliDAGU0qo.PL7F1fRFPY-1740665528-1.2.1.1-14Ts1VfagHfG4W4QGPfvCEyCgYgsEqNAikRbV0CXvVTuWNSU9WAfVSCkgJZUTt7WJwomslEp570GeDePmcvTnSl31t.wBEhqsZ9VHWI6D6OE6MnGZqZjnMPcbAvmxEycw1hUEduMmJdCUZtiS6QXHaOSAzYu3BWxUPVtemqLoK5W9g_xHwt384Fc3vMoqfdADg._.J9ZU3DnySyf2NFwyV_HMg1yG9hBgIK1ptuVe5O63bNN.K0Nhr.fvpg7BwGaWBLjB_N_Ipxi5c7uhdD0ClgLswCWi54C0TpBHX725.yxr1IRmXUWfGFvIXjz7hRjtJv2tXbbWnuamrwfvw8tvyWvSpDMO1vNRVdmWcdZ.t0Mc6e6wt4yzXu_b8hUrAT12B8UtsuO3K1FETTXV9quTm9PPSxUaPOwvQIVjCopTlAjZQCeF1NQsYc3d.9H20kjqSam2R02TFPw4_EK8XOzxva_M4cVdunxvtUGzcs41YLkTceES1qcmcFDO3jHACHHAiJwPSG8NGtclwEMWb10QtAVGU6M6Qj4_ATSn9Iscrxphsohz9rhVFDgZMYjBZUoxUjeL5oaiTB9lsDR0PjiqCTq_P0oLZNmO6Xpm9f6lRdh.ynhyc5AoofSeg0z2eYANc9NBR5kFd.Jphj0XQUljifHbfStc4VthBEGFoRWUEnF_w9JM5Van39Qd2acUF9GNYFIbUeILkpdILdfOAKHOwPlXVABt.4xEmJjg9fJTkgslJKV3m1Sv4fmPkDr7CvkryDVjI7fdnX.GkMh6oT4rqftlC91ndGOW2Jn771Tky.9OJ74wAB.Do9XTJVW5u9J3BgU8RaZPPZmJZTBMDOCE9NJ5KuTgZi_FItGoFRdjOY_xO_2J.76oDd9gs80fH__A_rC4Hx0I1e2Kpmd23zPm4eeNuO8mNVYB7m6rIxkxlE21_n_8SOE23HyGOcSsS88wdgkJSTMEfmShXHNsW.dJ5cXnuoV5t_ItSOuExl8GbLLAUS6HMKKgaM5kJfVoV7xbzPpxz_RGz0xbj8HW_GPTnzllE6Owie6q9IMJq4pC9wQ5UgTpcRvNgz9lqrczSuDEUw8M_Q9FO6Jx8JaVimRDJBbsEaAQSxWdk20PqA04FyYA2ro8x6_gm_XfL84VuYoFSYpGhC8apa9HVit2MYFn1QKzl.HSF40XuDyU0P0s49yYqCbFD1ohF1Dr9jiUKl4X1SE.j2KqOvYu07767rYCju2Lt2g4QyRmOH0GfAIOEqiFBPRZKx7US8Lc4Jz4q8crGpdWlsfmaESFcj_vlRyKKSAD890hKFmJ_9wkKUSgESyclyO_iYUbYhnHxiQn15.EnaNjMhsyehewGFXXd8ch8oX5qi4DmeoxMYBS9vGb4H8AfSjVKTNRemu7x29ghcPJ7Zm62MHybTFWMYBSyxCR.Gcakx0yfJaFk_0FTMXYsH9Eav_LIwnNMIDxlUh_v8g.xOdLy88tV0ne.7blkl6mLIIe8LbGxbWJaKlohMUErrkJNn.wSxxQ5P22aW4wL9T8jrzRel703Tc.kjTdU8rfl7ugFZrRRp90dcWkRT149vFkZXSbvtP06HhXMwblKvosurXOH5KFnvcJ4ZemE1_JWQ49C9L56U6oj1yFq1F2bzp5rE6br_gfoXeg7lsN.rfIxI5DQd.eXYCcU9CmSGhKKhfWfOwY5ayx5_hGGZ2kTzXPkg0Bb0QK2NlJye7sLW4RYUVYVJ_dgPfVchEBluccBG9e.0azzLe1dYcjTXanmXZ3oVJZNKMRDUGP7d5.UhNBhIW1t1_9M8xLLmvEnxAs9qDm_.nCLVAodPQw6xKtkAQYh3nfJIN2nwx1Q1nIMe2cWCsSB5oYS9Dm5ZgkKnsNNMx0_xTJAfHqwgY.DdEhX7JVvhy0HliqBcagsDFS8yr_TGgFj1PAPWeW2VWHR3Ikh3xrJyv.CTwSSSoptEZnAxVTxbUw2rTG5Vtf56kTBhYuTzQje7JOJvbx0L.97MpJ8306wvVoYVE7xTkPKwbKeBq54Sy8_Uu3Uyj1bBRwggmehSWVZjRu80OegxSE4S_D_Ceqm_QIT3c498f1qkEDu64nh7sA5nKRoCzKI5fq0axF9wyK8NrU7sMpzzwHMYSLs8owQ3rDevGsW_LtwiBSaLzKALlY6h81pj6FODjLRvqT3bPAKe8RTia_mZTIyR1FSyjiX986mjk2kRz_tLvE47xyodttBQfHj4zyZyafojMPFAqOuEXV1am9fBPLvRXUO3aJFJD1E1GVsbmUTAAG2QKfSIYIuIMM2WXW1CXK5tGt7a8qLge9w2RdEjlDqesxVplFNXktU_LDXPsKuUCH_A\",mdrd: \"yBCHfj_LuQunUkd8sTl4ECMHpm_Js13TqYZaaXodzXQ-1740665528-1.2.1.1-xIX9kj9miNYkb7tWGJNqRVJZRtKIdls9U5J8HZPCW0yRX0_4LnjUcQIu2XE6Y85IcxJhTgqhuBQuSGB2a8mYH2vEVfkR4TfToL2mwrs2ZizCA4AeEH92OssLpnVWaJ.MhMnpMhOvaV504Zs08OaVMLhZ.cgvt1okW1d4vTFq6aRru0msTCMqVwH2YKkU_y0mHomIOJRh04YGzDSAvE0xJ6OzTHcy4DfQo9OA4Rn2x_DBhwmm_P2P5ujK_jT0zJ7czrNFCYe6qd4PbngmW662Wqlhs6N4Qg8AStUpELEfYUYM8GH3_iKj6md1Y11mpLOvY2nfJ4VYd6XA5i3TY2XA4u7cN8FNMZCc9sjFiWac9Kk1ZL.io8W0hP3klhZEvYg_YV001I.psxLkIpmg0MWh4.4CPIiNAUe8ZsmUzTFWKP56pDn.bo2RAWrL1E.UUSTMPlGdHyF_WvxnMQAn7aeMZCqDCN4ZtkM.wKOjmRAs8axweQGUz5w8Aoyr8oceU2gmHv1VYB1cBuYjbwJDT7BjUV2yvOiUbhhThZroAGV2I8qdyiL1AXsbwtX9801DKpGiDKZzvv3mE7kioX42kxymel.Ru3AzxrON1SqQM1xPpCNrFabA0RAT8mJoSCs727bHzdqw4qIGameYNdygnNbWPVxeFK6dQ2eix5RykCXYL8aU4YW9pyt9o8CpjzyI7jhpIcVVy8PmSg1.TCD18sUnC_EXNJAJy2M7vlswpEmU7YtUqr17GMu5cpzlvkkZTm0g14MVIOxJs_QdHgw6L0lh2sRtWDx2oms_JxktjVpQKJNiK6TQNaxZTFUSJ.SyefEEMe7RVbvgn_od13awsK1WcZgWHjAwwpVf1gthMROq2csJY26YedxhIOwoe.jJMOdvU7xcFxU13L5sUv43Q0_noePf6vhkX40qszWeMnnQG5G2gsArnGSh99j.Go3m.NtmTUFeVOc.u4YToQHoe9WqcICF0XAvhTEvuoMEchm1wUgMv4h2FlJQoNveutt6hMmadzmfe4AdleJM0Sup2ljNAIVWr_UJagL1MZCtCVNjQzSWejHkktvx.P94QB4SG0v279cnOzPU5X44eS0fw6UL009MlNQhiJYQw6m4yNG8fwKEEtDoqViI12dHYF7Yg03EMcZAmLiL96T90pUVNsfbmpyYxs_KP2nYgTNOLaQBo6CjOJu1ka8weqAEWWE3_vGCf.gIhbgqlFs9b9sfSNn5O3wU3BS1Yy4w7ZgC6LJizqPlelNJ.GQ3feXCnI6NQKnxmQwoz7AQI6fe3Csxx4XNpgmVJXt4.j1h1UyF9bK40THHxJrQFopaBEcpPRpA0x7mdlG1i6AsHZmsCQDbvseZ90i2TE68oh3z1oNFAr_1DHlgiN3ZthUpz8I9DoaoqCP4uvxKpU.ZyAFUMOR6ao7TLGAjcJp7PQY_6DvSoXm54KpR29oVpVXER7wOa7mvtJMMzJMBo76K9xl7ivEkszune_ufONa8PsqN1LAILp3Isu8stZIFsoBjJPZBtylJE.mVWe8hFWfsSxtjJ3oZDecCMkwkLgNiLA77t.Mem.49obz_GGQ.5OmJfhPqSztGshnPNTdKisDg2S9feL8BEHlStunU7_PVduGFuCKCjxiPSdgoMlrc_4Th7L8Zh3R8qTXvDM9GcSqAXDieL3E478aq3jaJKNT3HrRdl0j8bvU9qxjEtIijtptakvgFI9B1CrRXmRptrpI.eNJ_LatgwXXYDdiGu49Rg9HlCQB07JdZEpAvPRxDHJGqYExZ1nBbvufXAUmpcc4j4divaOoRAyFET..uaG10NmfITxw66u5KzZeo8JyLF83ZME0zEzlF_PPykWI.vNz7jblaW99nrWNJj5gqNvVHK4bDFkc69y57cVk9kB607aioxFxNJvRuR2YLeAFtz3JVXZTOzg6Uy2ITiS_sBBr3SNXH0EieVmehd4EzBQssjI.jKNsUjz5Eftw1FDDLsQIwvx8jCIQko_CUvjJIrKYzj35aRReYncG_rb850pfNIURikNx9jFDs1sId3GkhIcjBrAVa7l05fHLzKaJQPWTsV6V0Iii2d6e8OgUD5q3tf3OpxsEdk7nmU7mtaH6RJDVPiqcOd8Uz6RpFQj1ALd6XZ0EKeeWIx9apv1fxzqeSSpWGe41ipXtmO.3D0tsH0SigOY9zwCpvHLLeLg\"};var cpo = document.createElement(\\'script\\');cpo.src = \\'/cdn-cgi/challenge-platform/h/b/orchestrate/chl_page/v1?ray=9188c49e997be517\\';window._cf_chl_opt.cOgUHash = location.hash === \\'\\' && location.href.indexOf(\\'#\\') !== -1 ? \\'#\\' : location.hash;window._cf_chl_opt.cOgUQuery = location.search === \\'\\' && location.href.slice(0, location.href.length - window._cf_chl_opt.cOgUHash.length).indexOf(\\'?\\') !== -1 ? \\'?\\' : location.search;if (window.history && window.history.replaceState) {var ogU = location.pathname + window._cf_chl_opt.cOgUQuery + window._cf_chl_opt.cOgUHash;history.replaceState(null, null, \"\\\\/meteor\\\\/metbull.php?__cf_chl_rt_tk=1pAV_7UeqD94uhk_3XEwdaV2d0Gia.fSZLIhgCCW_5s-1740665528-1.0.1.1-e_E2WjURahipycSKOKlsLOTehKuaCDS6f2WxFxLB.5Y\" + window._cf_chl_opt.cOgUHash);cpo.onload = function() {history.replaceState(null, null, ogU);}}document.getElementsByTagName(\\'head\\')[0].appendChild(cpo);}());</script></body></html>'"
      ]
     },
     "execution_count": 59,
     "metadata": {},
     "output_type": "execute_result"
    }
   ],
   "source": [
    "url = \"https://www.lpi.usra.edu/meteor/metbull.php\"\n",
    "response = requests.get(url)\n",
    "response.content"
   ]
  },
  {
   "cell_type": "code",
   "execution_count": 83,
   "id": "24e2ccfb-44f0-4758-a48d-f9d375ddcddc",
   "metadata": {},
   "outputs": [],
   "source": [
    "from bs4 import BeautifulSoup\n",
    "\n",
    "soup = BeautifulSoup(response.content, \"html.parser\")"
   ]
  },
  {
   "cell_type": "code",
   "execution_count": 85,
   "id": "54132753-f37c-4172-9693-1b2256f80def",
   "metadata": {
    "scrolled": true
   },
   "outputs": [
    {
     "name": "stdout",
     "output_type": "stream",
     "text": [
      "<!DOCTYPE html>\n",
      "<html lang=\"en-US\">\n",
      " <head>\n",
      "  <title>\n",
      "   Just a moment...\n",
      "  </title>\n",
      "  <meta content=\"text/html; charset=utf-8\" http-equiv=\"Content-Type\"/>\n",
      "  <meta content=\"IE=Edge\" http-equiv=\"X-UA-Compatible\"/>\n",
      "  <meta content=\"noindex,nofollow\" name=\"robots\"/>\n",
      "  <meta content=\"width=device-width,initial-scale=1\" name=\"viewport\"/>\n",
      "  <style>\n",
      "   *{box-sizing:border-box;margin:0;padding:0}html{line-height:1.15;-webkit-text-size-adjust:100%;color:#313131;font-family:system-ui,-apple-system,BlinkMacSystemFont,Segoe UI,Roboto,Helvetica Neue,Arial,Noto Sans,sans-serif,Apple Color Emoji,Segoe UI Emoji,Segoe UI Symbol,Noto Color Emoji}body{display:flex;flex-direction:column;height:100vh;min-height:100vh}.main-content{margin:8rem auto;max-width:60rem;padding-left:1.5rem}@media (width <= 720px){.main-content{margin-top:4rem}}.h2{font-size:1.5rem;font-weight:500;line-height:2.25rem}@media (width <= 720px){.h2{font-size:1.25rem;line-height:1.5rem}}#challenge-error-text{background-image:url(data:image/svg+xml;base64,PHN2ZyB4bWxucz0iaHR0cDovL3d3dy53My5vcmcvMjAwMC9zdmciIHdpZHRoPSIzMiIgaGVpZ2h0PSIzMiIgZmlsbD0ibm9uZSI+PHBhdGggZmlsbD0iI0IyMEYwMyIgZD0iTTE2IDNhMTMgMTMgMCAxIDAgMTMgMTNBMTMuMDE1IDEzLjAxNSAwIDAgMCAxNiAzbTAgMjRhMTEgMTEgMCAxIDEgMTEtMTEgMTEuMDEgMTEuMDEgMCAwIDEtMTEgMTEiLz48cGF0aCBmaWxsPSIjQjIwRjAzIiBkPSJNMTcuMDM4IDE4LjYxNUgxNC44N0wxNC41NjMgOS41aDIuNzgzem0tMS4wODQgMS40MjdxLjY2IDAgMS4wNTcuMzg4LjQwNy4zODkuNDA3Ljk5NCAwIC41OTYtLjQwNy45ODQtLjM5Ny4zOS0xLjA1Ny4zODktLjY1IDAtMS4wNTYtLjM4OS0uMzk4LS4zODktLjM5OC0uOTg0IDAtLjU5Ny4zOTgtLjk4NS40MDYtLjM5NyAxLjA1Ni0uMzk3Ii8+PC9zdmc+);background-repeat:no-repeat;background-size:contain;padding-left:34px}@media (prefers-color-scheme:dark){body{background-color:#222;color:#d9d9d9}}\n",
      "  </style>\n",
      "  <meta content=\"390\" http-equiv=\"refresh\"/>\n",
      " </head>\n",
      " <body class=\"no-js\">\n",
      "  <div class=\"main-wrapper\" role=\"main\">\n",
      "   <div class=\"main-content\">\n",
      "    <noscript>\n",
      "     <div class=\"h2\">\n",
      "      <span id=\"challenge-error-text\">\n",
      "       Enable JavaScript and cookies to continue\n",
      "      </span>\n",
      "     </div>\n",
      "    </noscript>\n",
      "   </div>\n",
      "  </div>\n",
      "  <script>\n",
      "   (function(){window._cf_chl_opt={cvId: '3',cZone: \"www.lpi.usra.edu\",cType: 'managed',cRay: '9188cd37ffd9e519',cH: '3oLCL5n7TZqe9gKxVjNWUVmptpAl2J5cGY3YJuqaiuU-1740665880-1.2.1.1-Pxx_zg61X0muo3mRDlU6huASpz9LQHM3CJaYBzFXiPif_bzpSjesDHGGwm.o4ALH',cUPMDTk: \"\\/meteor\\/metbull.php?__cf_chl_tk=uA0xOdZSi_j3gNjySWsB8j5vqVEMI6S7h4fLqQWEGv0-1740665880-1.0.1.1-espdGTMxQP_BUbpCrg1krBNigWSsaisJrFjDNOszXEc\",cFPWv: 'b',cITimeS: '1740665880',cTTimeMs: '1000',cMTimeMs: '390000',cTplC: 0,cTplV: 5,cTplB: 'cf',cK: \"\",fa: \"\\/meteor\\/metbull.php?__cf_chl_f_tk=uA0xOdZSi_j3gNjySWsB8j5vqVEMI6S7h4fLqQWEGv0-1740665880-1.0.1.1-espdGTMxQP_BUbpCrg1krBNigWSsaisJrFjDNOszXEc\",md: \"jas1WqV65vh5zsn3RsvY9SI6YPfqqFJugfKJ9i.GzZg-1740665880-1.2.1.1-E_PwtfOjh_dW.uWDbclC8cIq_SulF0gBjj5a3rNGQpsnAsBCUsHrjSZsFRnYLz7m228HrkZUuSO3RirNgGlkbhyhwg1p7iInBH7W4vSWx1xoOnmMFZ9VSF06Wbe00G3SY.fAnAYs2KBVjRBf2IQYogvmUslSolatQeHXGyi5juEHEKwRa7Kg_HdvKlrQcRWrs8S84eONUyzNaymZQ.9jMKYvE6nbTOvlTdfNJURSetu0vEu6pYEJtOoJWycZVyeasF5AgxvL0fB6skm1k_uri83Wy84BJl_u5A_d_GGluK1TRntYDWLiAiMfCTLNRH5rz11OVlx5HL3rRgyAvzRX7IB6NF5gSld20DNP.059doOIRFmw4DRz5WqDqOnWTYVeCGWhD5spi5Td4mXoefovwxg6nEgvkidS0Bb5Hqov0AKw4I6GmmIA5tG6yR37BhuhQJ5R6fv_k0f93ste2xkbc0J7wnbVE6ibCi3iqUC3fDSFCuTFTq9kBeLwhh8EmZsSmPxl0BuZ.Akyyu3ZYlSZ6RQJ3z1UhcYORAoZ7XfkqysYgg7al.x3BkKhaM6b8oXx7WsA.3LB2pZEOskSaoXeyyqQV.HTzrhmi0DwvcBRz0xpGATI6ZpKFXi0X1n0kUy778yfeTbtBcH7itIzgHKVUP.jTUdiDBeEp4jHOT5wE9_YJM8bIP8Ou7VkgaCj5U4dlxsefU7ZH_jKYyPit3xF2WfHuXd6V94LmII0aOPPcQwksOakQcfQOENfvbDrS7AzApebHnbLtWNSNwcW_bbHynMPmRfIesZQ_2bGflCWDiHXJlScncytYyhJfYuNCaVLpjplpUuPH_vpqVQrunnh9qJwi0eKjgQ5FM5kT8LdjbUQGO_umgKQUb9urVkZ2lUWlsTfUGIAso5aWhPSL_f2gipXqB0QlntyTcu7VpDjQgeMb4.DMhYnXW2gKmXbXGT118lLpLMTKE8yBwemu3tkdDDtZsymDt0p2UgfcdZC8tS4tTQMJhJfOMiX8iPciWsqWLTo2v03ZbaYRZFhfh1AaK7H6JsiIgI3j73TUZVljdzVGuYUIMCLwP670o6wmjPfvPgbEDuOeo4pPmXnT5bISttm.LRqC9a4XywI.3Ni572DD9Q.jNW0utREXIFWu8OjFjghVqNR84k_8iLlSX1FEDYwCfOJ0nByohsCi5hczY_h.XfdHLs.vY9Uhb8SgWcBk9jYM.PIGoWI__heJtyuvu1rQmc6EsFVMy_vWbR5kAclmXY.hRgF2J1LrP3afi6M_d2H2hcFCM2ZjYX3d4c6wnrUAYV_Ne_t8IJm0FqohkeIQMNCTjwO_cWjT_0X6usPIicvszgv7sP.a8baqol4nTr88e46Fxq6_xmG9_ZVkouqcAGsPL4Ryc2QFs_dp7SXR8AMmWWcLytjijl9TNqD_2xVOZ8caSOZnKd_GG7MHyL7zDX5vzjYVDypRMcBIFtNgo5hL5JlXYoEAqeLyGopEbMVdiEWaCFJv9VVk8ZpmdKdIrt2VIYW0N5qHc0Ggms655fDU6kbBekEamPsVkFaF_7aYOdOEYACXvEAhL9pD7NBIkZGKYh0GYAxETxx.VgzlItN9oAWCBvT04sAmNvKOdKx1tTBAMD0nBQ9FToDS1tqSuETm8BnDxdNcN3kxqpHeW97h0E8Ft2hai1Xxx9ijcyi37u5Vr6Hytq0c7vMniM7ZJanYEwOtqSvd6dfYt..UYgDsUU_fATX.UjVgVJNieg88OMyrQPNFYhLZfMMEdWCSLDs1SbOHPNJPybC1daY9hj2tSCp1jl4ThLfZRJGWU7ulmptcRzHAZMmV3fZx0.R34pp7rZaiLJojQP_cQzv6uwiAFAYZajlMV0WyCpE7MI_pAXQ623PPpqo30aIP3Pc8UmHqgA9z_5hJohRUVOJThAeinVb_lhQdX.INJMzvvxK6xT6KqvQbW7_S6ZUMgyGTFtZvPeSWAZtx4Ke546mFKkhvh0xNbqSp.GQxATi_QlKb7O50iCXEs2xt2K4R.v8ibGSpXS6I4.IMXZ5yRDeORE0uqomVum_CN_KB.2O326Iz3To5_zs354ikSDARC3tepBYNGDdwDkQ385.g_qUBFET0jITntIpNBEUE0E9yuZf4YO5pn3l_3PxSafcGttaBRgu9pJB9tMgLNcdoRtUlXrmOECh_6i1yeE2o.PVMlM9QVlxu2KS3s5sZIhqXOdmvhh4WEIWcbNHuq7XEIUklxb47FO2kP61f_3.pnqQMAfwg1AX5LgLoDSVDTnj1M2vtyD_v7OK41LDiwkm1od1hGLHw7r3SS_cKTiPkRN40wCtsd3z.HiuLmwIAxuv6_uMX6uVR9ZqQtXdVK7IPKA.9.lFrpGK6sdcB1ujrN_XIdwosoCeDt5Wgv8PGb9TIeZ0JBkqR5X4aQo_FBpF1bhoJijFRQbKwoL.bc15q42qXM3ga93sqs6mfVH4errqRfA\",mdrd: \"PHP5jXYhDVU0X5I6eGYtBVjhoDPYMcF4jRxEx2eJffY-1740665880-1.2.1.1-SOiUHI1SbdtMKPb3KS82Uv7FYrFR2zD8lqi5CbRDjj1xoP8Ma9PKFIuHELZ32t6jUeoXPLOY8gi1A4oOF5K9Q3l_5dxTpGPU1W0.tfPZzyCkYrDIeXAo9NbQwMu7OjQXnZFSlz6moH4DaMVFC6iqzutfFtlg81emRpAR_4z0etMglUzbnwavDx3g50wZp.mTvX9.3yFUyA_XHlhCkQDWPSRL8rSuUJrILCJzG9PPPxAVOHbW48Hawh.Xhq4t0wy4LZVNt_Z1iGOf9Y5n_CvHw2ho61QMLtmewQZlat1pZrSGA06zJtCOHf_BDDjVEWqL91FcjvlZAlqqNWw.5NsfUJpGu264nolUixY0IWAqYZsOgvnGhhOJ.vLtMaYOlbxVNwteM5LCkJ_fS66otcmkYA52ku_ZXYiabCW12aZ4SCTuvtUzvGdSWX8iwaX_dHf6f9sHEhsxqGiegb0TiP_Ck6QA8W.S9.7FVA1vKWdGfzbmbR6eOPoAD_2uR4..oxR48PYQgSmM4IEzEDr34ouqkBMJ16Qr_oZgdDFEq4wMtc0Z6GE5tXriImpY73fvBqNfiPDAgDw.iN2.AGlWJhDgA6_gFOBrLCKq1pr8ONBCoDE.Plxcx8937M9BH6YyaIumsvmhHpF4NaCYhzin.FhAstXcxqAFuqV3vhDeFezew09sxnOiSkOpjjvgXBlIvBEQ1r_yzb0TUAtQPnDykDol5WUU.aNcolAh2ZcAQDRVcuJ72_nFpUP.0qSH4hmcuYYxsnh_V5V5tCTnpwannJkQ8bb2bXiL1.dgjcDIj.K4rmduBhcj0ipw54xd5ulmktkdqRAQ2LR8LuWqvT8n2t0E7607m1BTaql5B2Kawz0B4W8KJNftXMGsYgxikPgVKzV0lBHlwHAaIMxuPFT0w6IVsvxdJaQrdC6qdgsVfO4YgDwmvQpjseRpEmpq3w4sxJBEBtyU9fAHiMlJw2gzKlZVWRN6iw56DKik7ZRqoV1bDaV0xcVKhdjcjFb5Rpowc2LMfL8iGytrjSsxVigCclPezFgBs4MEtb4BvhE8WMAqkCqVUNDXiL8wQBNIHdMy.H5k_dHbo7QUN94ZoPgpcV8N5wxSDVFvffP8RruOsYtegEYxYl7QoFPiBuAq4.6Z4daTEf7kpLrr.NjpQjO.c4mbOPUkZISBgow6up3Ph10GQYUkyeJfDgVHz7sBOLILL3ohIQrBUB.IaTT6J1X1SuCeAHCEHrXCJ2GsJvXM2jexxZ.UHJiF4DfrsqUzrDwfXkmAqzwA3xxuT.EOatjDBuMk5fi6ojZ1aLnyhl7LhbvEFI4V_F8tp5X8qNa4XMONrve3A_4JpGK_Fb_39AqzOMDYElhjhoFxytKcB21AUy7yxVhMorI4Ky4Kmjo9G_5wt4TZHN9rW5FqkevMWWS0UQT4M29t7m80lAxt0myTNKRU2hm2lrwk1paRUHQ7IndfuFa0RWmO9E4nCDQC8AekNMfjKhKbqB4cjwcqS.Sesy7IlEeqnuRpMKTJS31HozeJyXLfn7dahLM9YHwp4lZSxx.0AaAoyN3JX2aFNCXm283psOHhpF296aPIwzH9Sq6gqox3yHBqjcPRErLziZ4NKFXbNQT1LGjvPp0GKN5zsXi6Dj5qdXB2CbISESI2sySH40YKtZJ9p5TfMyfaGykFdX7ARgI_fD8uv1Y2R28PY.BDZ.9bSBTi8ztcDe.TBlyNURLAsFRmx0WNsKbs0wWfdbnF6sjzLQP9cGRkGO2QyhSQ0aIigFfLlF7RG2m3xSDR9jR89lD2CrKeYNPKMl2VMvlU.SnCYiqO2vyuZwu9z2R8b1KEz4dwNyi8LjXxYrnnYQ1Wg_dOS6dqQfeKQgEygmAw8Q4F9OPYfSsgl03dsa0Lwt4nJYSXuWmFInpeZmO4aeBwekOtGLeTkbH2x18_H13y5ki5SJOcVR3nbkMjzcoWCIFYENEaL6weAHkm4Fw1alHBRIKmtuEBWTIP9311_B2dKT0ZGiF3znqv9JgGp4PV7x0T7QvpsNG6_O6zuVtYwU0Bh1VgF5ISFs483MLfHrHVMr2tw5pCPO7fm3BGekPK7BjkZDvGdoMsLdUhk65tpHJlKQUdyPp0XG513EogQQ4yu_DHPj8ArBMmyTuXZ9pyO.EQ0ulHupU5I1ql6ztxJjaDFWWRhtTiu1kMb.bDn6w3qIxK3bDCY3M4ZOFrrHQNZs9sq5AUPAnxjCur7FGqs2rseUHqxFnjgJpLVk3zbev2bEP6FZA09FrQGxwkdSe_sMPBecFswLRwFnm2jWdcRS8s\"};var cpo = document.createElement('script');cpo.src = '/cdn-cgi/challenge-platform/h/b/orchestrate/chl_page/v1?ray=9188cd37ffd9e519';window._cf_chl_opt.cOgUHash = location.hash === '' && location.href.indexOf('#') !== -1 ? '#' : location.hash;window._cf_chl_opt.cOgUQuery = location.search === '' && location.href.slice(0, location.href.length - window._cf_chl_opt.cOgUHash.length).indexOf('?') !== -1 ? '?' : location.search;if (window.history && window.history.replaceState) {var ogU = location.pathname + window._cf_chl_opt.cOgUQuery + window._cf_chl_opt.cOgUHash;history.replaceState(null, null, \"\\/meteor\\/metbull.php?__cf_chl_rt_tk=uA0xOdZSi_j3gNjySWsB8j5vqVEMI6S7h4fLqQWEGv0-1740665880-1.0.1.1-espdGTMxQP_BUbpCrg1krBNigWSsaisJrFjDNOszXEc\" + window._cf_chl_opt.cOgUHash);cpo.onload = function() {history.replaceState(null, null, ogU);}}document.getElementsByTagName('head')[0].appendChild(cpo);}());\n",
      "  </script>\n",
      " </body>\n",
      "</html>\n",
      "\n"
     ]
    }
   ],
   "source": [
    "print(soup.prettify())  # This formats the HTML in a readable way...dont run in here"
   ]
  },
  {
   "cell_type": "code",
   "execution_count": 87,
   "id": "4fb168da-4919-4a9a-8a0f-2bc040a22abb",
   "metadata": {},
   "outputs": [
    {
     "data": {
      "text/plain": [
       "[<span id=\"challenge-error-text\">Enable JavaScript and cookies to continue</span>]"
      ]
     },
     "execution_count": 87,
     "metadata": {},
     "output_type": "execute_result"
    }
   ],
   "source": [
    "name_element = soup.find_all('span')\n",
    "name_element"
   ]
  },
  {
   "cell_type": "code",
   "execution_count": null,
   "id": "432eb3f0-4385-44e7-a94d-55f635452826",
   "metadata": {},
   "outputs": [],
   "source": []
  },
  {
   "cell_type": "code",
   "execution_count": 37,
   "id": "30079b2c-fee1-4b20-9338-35efee272d8c",
   "metadata": {},
   "outputs": [],
   "source": [
    "for place in soup.select(\"tbody tr td\"):\n",
    "    print(place.get_text())"
   ]
  },
  {
   "cell_type": "code",
   "execution_count": null,
   "id": "f15ffac1-8cb4-4b70-9a06-182205caaa55",
   "metadata": {},
   "outputs": [],
   "source": []
  },
  {
   "cell_type": "code",
   "execution_count": null,
   "id": "5727f248-724f-473a-842d-0d47d22a1bd8",
   "metadata": {},
   "outputs": [],
   "source": []
  }
 ],
 "metadata": {
  "kernelspec": {
   "display_name": "Python [conda env:base] *",
   "language": "python",
   "name": "conda-base-py"
  },
  "language_info": {
   "codemirror_mode": {
    "name": "ipython",
    "version": 3
   },
   "file_extension": ".py",
   "mimetype": "text/x-python",
   "name": "python",
   "nbconvert_exporter": "python",
   "pygments_lexer": "ipython3",
   "version": "3.12.7"
  }
 },
 "nbformat": 4,
 "nbformat_minor": 5
}
