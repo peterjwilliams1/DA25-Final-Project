{
 "cells": [
  {
   "cell_type": "code",
   "execution_count": 2,
   "id": "3667299a-99f5-4899-8197-cc21d153c53a",
   "metadata": {},
   "outputs": [
    {
     "name": "stdout",
     "output_type": "stream",
     "text": [
      "Requirement already satisfied: sysyphus in /Users/peterwilliams/Anaconda3/anaconda3/lib/python3.12/site-packages (0.1.2)\n",
      "Requirement already satisfied: pandas in /Users/peterwilliams/Anaconda3/anaconda3/lib/python3.12/site-packages (from sysyphus) (2.2.2)\n",
      "Requirement already satisfied: numpy in /Users/peterwilliams/Anaconda3/anaconda3/lib/python3.12/site-packages (from sysyphus) (1.26.4)\n",
      "Requirement already satisfied: beautifulsoup4 in /Users/peterwilliams/Anaconda3/anaconda3/lib/python3.12/site-packages (from sysyphus) (4.12.3)\n",
      "Requirement already satisfied: requests in /Users/peterwilliams/Anaconda3/anaconda3/lib/python3.12/site-packages (from sysyphus) (2.32.3)\n",
      "Requirement already satisfied: tqdm in /Users/peterwilliams/Anaconda3/anaconda3/lib/python3.12/site-packages (from sysyphus) (4.66.5)\n",
      "Requirement already satisfied: soupsieve>1.2 in /Users/peterwilliams/Anaconda3/anaconda3/lib/python3.12/site-packages (from beautifulsoup4->sysyphus) (2.5)\n",
      "Requirement already satisfied: python-dateutil>=2.8.2 in /Users/peterwilliams/Anaconda3/anaconda3/lib/python3.12/site-packages (from pandas->sysyphus) (2.9.0.post0)\n",
      "Requirement already satisfied: pytz>=2020.1 in /Users/peterwilliams/Anaconda3/anaconda3/lib/python3.12/site-packages (from pandas->sysyphus) (2024.1)\n",
      "Requirement already satisfied: tzdata>=2022.7 in /Users/peterwilliams/Anaconda3/anaconda3/lib/python3.12/site-packages (from pandas->sysyphus) (2023.3)\n",
      "Requirement already satisfied: charset-normalizer<4,>=2 in /Users/peterwilliams/Anaconda3/anaconda3/lib/python3.12/site-packages (from requests->sysyphus) (3.3.2)\n",
      "Requirement already satisfied: idna<4,>=2.5 in /Users/peterwilliams/Anaconda3/anaconda3/lib/python3.12/site-packages (from requests->sysyphus) (3.7)\n",
      "Requirement already satisfied: urllib3<3,>=1.21.1 in /Users/peterwilliams/Anaconda3/anaconda3/lib/python3.12/site-packages (from requests->sysyphus) (2.2.3)\n",
      "Requirement already satisfied: certifi>=2017.4.17 in /Users/peterwilliams/Anaconda3/anaconda3/lib/python3.12/site-packages (from requests->sysyphus) (2025.1.31)\n",
      "Requirement already satisfied: six>=1.5 in /Users/peterwilliams/Anaconda3/anaconda3/lib/python3.12/site-packages (from python-dateutil>=2.8.2->pandas->sysyphus) (1.16.0)\n",
      "Note: you may need to restart the kernel to use updated packages.\n"
     ]
    }
   ],
   "source": [
    "pip install sysyphus"
   ]
  },
  {
   "cell_type": "code",
   "execution_count": 4,
   "id": "62f56ec7-ceb8-4652-b3cc-dd99a983eada",
   "metadata": {},
   "outputs": [
    {
     "name": "stdout",
     "output_type": "stream",
     "text": [
      "cnx: OK\n",
      "remote content: Loaded\n"
     ]
    }
   ],
   "source": [
    "import pandas as pd\n",
    "import numpy as np\n",
    "import sysyphus\n",
    "\n",
    "boulder = sysyphus.Boulder()  # use_json=True by default\n"
   ]
  },
  {
   "cell_type": "code",
   "execution_count": 14,
   "id": "c85296fe-1c13-47d6-b116-e6024bba8ca7",
   "metadata": {},
   "outputs": [
    {
     "name": "stdout",
     "output_type": "stream",
     "text": [
      "cnx: OK\n",
      "remote content: Loaded\n",
      "Refine your search. Press Enter to skip any criterion.\n"
     ]
    },
    {
     "name": "stdin",
     "output_type": "stream",
     "text": [
      "Enter name to filter dataset (min. 2 chars):  \n",
      "Enter numeric ID range (e.g., 100,200):  \n",
      "Refine search by fall country:  \n",
      "Refine results by types:  \n"
     ]
    },
    {
     "ename": "ValueError",
     "evalue": "No search parameters provided, please retry.",
     "output_type": "error",
     "traceback": [
      "\u001b[0;31m---------------------------------------------------------------------------\u001b[0m",
      "\u001b[0;31mValueError\u001b[0m                                Traceback (most recent call last)",
      "Cell \u001b[0;32mIn[14], line 7\u001b[0m\n\u001b[1;32m      4\u001b[0m boulder \u001b[38;5;241m=\u001b[39m sysyphus\u001b[38;5;241m.\u001b[39mBoulder()\n\u001b[1;32m      6\u001b[0m \u001b[38;5;66;03m# Perform an interactive search\u001b[39;00m\n\u001b[0;32m----> 7\u001b[0m boulder\u001b[38;5;241m.\u001b[39mmake_search()\n",
      "File \u001b[0;32m~/Anaconda3/anaconda3/lib/python3.12/site-packages/sysyphus/models/boulder.py:73\u001b[0m, in \u001b[0;36mBoulder.make_search\u001b[0;34m(self, verbose_results)\u001b[0m\n\u001b[1;32m     70\u001b[0m search_parameters \u001b[38;5;241m=\u001b[39m search\u001b[38;5;241m.\u001b[39msearch_prompts()\n\u001b[1;32m     72\u001b[0m \u001b[38;5;28;01mif\u001b[39;00m \u001b[38;5;28mlen\u001b[39m(search_parameters\u001b[38;5;241m.\u001b[39mkeys()) \u001b[38;5;241m<\u001b[39m \u001b[38;5;241m1\u001b[39m:\n\u001b[0;32m---> 73\u001b[0m     \u001b[38;5;28;01mraise\u001b[39;00m \u001b[38;5;167;01mValueError\u001b[39;00m(\u001b[38;5;124m\"\u001b[39m\u001b[38;5;124mNo search parameters provided, please retry.\u001b[39m\u001b[38;5;124m\"\u001b[39m)\n\u001b[1;32m     75\u001b[0m \u001b[38;5;28;01mif\u001b[39;00m \u001b[38;5;124m\"\u001b[39m\u001b[38;5;124mnamespace\u001b[39m\u001b[38;5;124m\"\u001b[39m \u001b[38;5;129;01min\u001b[39;00m search_parameters\u001b[38;5;241m.\u001b[39mkeys():\n\u001b[1;32m     76\u001b[0m     \u001b[38;5;28;01mif\u001b[39;00m \u001b[38;5;124m\"\u001b[39m\u001b[38;5;124mnumeric_range\u001b[39m\u001b[38;5;124m\"\u001b[39m \u001b[38;5;129;01min\u001b[39;00m search_parameters\u001b[38;5;241m.\u001b[39mkeys():\n",
      "\u001b[0;31mValueError\u001b[0m: No search parameters provided, please retry."
     ]
    }
   ],
   "source": [
    "import sysyphus\n",
    "\n",
    "# Initialize the Boulder object\n",
    "boulder = sysyphus.Boulder()\n",
    "\n",
    "# Perform an interactive search\n",
    "boulder.make_search()\n"
   ]
  },
  {
   "cell_type": "code",
   "execution_count": null,
   "id": "6834cfde-02ab-45e5-8ab6-2ffb9be2fad6",
   "metadata": {},
   "outputs": [],
   "source": [
    "# Save the filtered data to a CSV file\n",
    "boulder.save_search(filepath='meteorites_2010_2025', file_format='csv')\n"
   ]
  }
 ],
 "metadata": {
  "kernelspec": {
   "display_name": "Python [conda env:base] *",
   "language": "python",
   "name": "conda-base-py"
  },
  "language_info": {
   "codemirror_mode": {
    "name": "ipython",
    "version": 3
   },
   "file_extension": ".py",
   "mimetype": "text/x-python",
   "name": "python",
   "nbconvert_exporter": "python",
   "pygments_lexer": "ipython3",
   "version": "3.12.7"
  }
 },
 "nbformat": 4,
 "nbformat_minor": 5
}
